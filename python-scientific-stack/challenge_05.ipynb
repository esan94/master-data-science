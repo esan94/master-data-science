{
 "cells": [
  {
   "cell_type": "markdown",
   "metadata": {
    "collapsed": true
   },
   "source": [
    "## Write a Web Service\n",
    "\n",
    "Wrap the output of the second exercise in a web service that returns the data in JSON format (instead of printing to the standard output).\n",
    "\n",
    "The web service should accept a parameter n>0. For the top 10 airports, n is 10. For the X top airports, n is X \n"
   ]
  },
  {
   "cell_type": "code",
   "execution_count": 1,
   "metadata": {},
   "outputs": [
    {
     "name": "stdout",
     "output_type": "stream",
     "text": [
      "Start processing chunk 0 at 2018-12-09 19:10:46.240742\n",
      "Start processing chunk 1 at 2018-12-09 19:11:36.842912\n",
      "Start processing chunk 2 at 2018-12-09 19:12:27.512042\n",
      "Start processing chunk 3 at 2018-12-09 19:13:19.117359\n",
      "Start processing chunk 4 at 2018-12-09 19:14:08.441421\n"
     ]
    },
    {
     "name": "stderr",
     "output_type": "stream",
     "text": [
      "<string>:2: DtypeWarning: Columns (7,8,27) have mixed types. Specify dtype option on import or set low_memory=False.\n"
     ]
    },
    {
     "name": "stdout",
     "output_type": "stream",
     "text": [
      "Start processing chunk 5 at 2018-12-09 19:14:59.107336\n",
      "Start processing chunk 6 at 2018-12-09 19:15:49.125726\n",
      "Start processing chunk 7 at 2018-12-09 19:16:38.605477\n",
      "Start processing chunk 8 at 2018-12-09 19:17:31.516156\n",
      "Start processing chunk 9 at 2018-12-09 19:18:17.877368\n",
      "Start processing chunk 10 at 2018-12-09 19:18:18.874660\n",
      "CPU times: user 7min 51s, sys: 27.7 s, total: 8min 19s\n",
      "Wall time: 8min 28s\n"
     ]
    }
   ],
   "source": [
    "%%time\n",
    "import pandas as pd\n",
    "from datetime import datetime\n",
    "\n",
    "bookings_file = 'bookings.csv.bz2'\n",
    "data = pd.read_csv(bookings_file, sep='^', chunksize=1e6)\n",
    "\n",
    "partial_results = []\n",
    "\n",
    "for chunk_num, chunk in enumerate(data):\n",
    "    print('Start processing chunk %d at %s' % (chunk_num, datetime.now()))\n",
    "    \n",
    "    chunk = chunk[['arr_port', 'pax', 'year']].dropna()\n",
    "    chunk = chunk[chunk['year'] == 2013]\n",
    "    result_from_this_chunk = chunk.groupby('arr_port')['pax'].sum()\n",
    "    \n",
    "    partial_results.append(result_from_this_chunk)\n",
    "    \n",
    "all_results = pd.concat(partial_results)\n",
    "total_arrivals = all_results.groupby('arr_port').sum()\n",
    "sorted_by_arrivals = total_arrivals.sort_values(ascending=False)\n",
    "sorted_by_arrivals.index = sorted_by_arrivals.index.str.strip()"
   ]
  },
  {
   "cell_type": "markdown",
   "metadata": {},
   "source": [
    "## Web Service"
   ]
  },
  {
   "cell_type": "markdown",
   "metadata": {},
   "source": [
    "http://flask.pocoo.org/docs/1.0/quickstart"
   ]
  },
  {
   "cell_type": "code",
   "execution_count": 2,
   "metadata": {
    "scrolled": true
   },
   "outputs": [
    {
     "name": "stderr",
     "output_type": "stream",
     "text": [
      " * Running on http://localhost:5000/ (Press CTRL+C to quit)\n",
      "127.0.0.1 - - [09/Dec/2018 19:20:16] \"GET / HTTP/1.1\" 404 -\n",
      "127.0.0.1 - - [09/Dec/2018 19:20:16] \"GET /favicon.ico HTTP/1.1\" 404 -\n",
      "127.0.0.1 - - [09/Dec/2018 19:20:31] \"GET /topnairports?n=5 HTTP/1.1\" 200 -\n",
      "127.0.0.1 - - [09/Dec/2018 19:20:31] \"GET /favicon.ico HTTP/1.1\" 404 -\n",
      "127.0.0.1 - - [09/Dec/2018 19:20:37] \"GET /topnairports HTTP/1.1\" 200 -\n",
      "127.0.0.1 - - [09/Dec/2018 19:20:37] \"GET /favicon.ico HTTP/1.1\" 404 -\n",
      "127.0.0.1 - - [09/Dec/2018 19:20:52] \"GET /topnairports HTTP/1.1\" 200 -\n",
      "127.0.0.1 - - [09/Dec/2018 19:20:52] \"GET /favicon.ico HTTP/1.1\" 404 -\n",
      "127.0.0.1 - - [09/Dec/2018 19:20:56] \"GET /topnairports?n=3 HTTP/1.1\" 200 -\n",
      "127.0.0.1 - - [09/Dec/2018 19:20:56] \"GET /favicon.ico HTTP/1.1\" 404 -\n"
     ]
    }
   ],
   "source": [
    "from flask import Flask, request\n",
    "from werkzeug.serving import run_simple\n",
    "\n",
    "app = Flask('topnairports-service')\n",
    "\n",
    "@app.route('/topnairports')\n",
    "def topnairports():\n",
    "    n = int(request.args.get('n', 10))\n",
    "    return sorted_by_arrivals.head(n).to_json()\n",
    "    \n",
    "run_simple('localhost', 5000, app)"
   ]
  },
  {
   "cell_type": "markdown",
   "metadata": {},
   "source": [
    "To get the top 5:\n",
    "\n",
    "http://127.0.0.1:5000/topnairports?n=5"
   ]
  },
  {
   "cell_type": "raw",
   "metadata": {},
   "source": [
    "HTTP (the protocol web applications are speaking) knows different methods for accessing URLs. By default, a route only answers to GET requests, but that can be changed by providing the methods argument to the route() decorator. "
   ]
  },
  {
   "cell_type": "raw",
   "metadata": {},
   "source": [
    "The HTTP method (also often called “the verb”) tells the server what the clients wants to do with the requested page."
   ]
  },
  {
   "cell_type": "raw",
   "metadata": {},
   "source": [
    "GET\n",
    "    The browser tells the server to just get the information stored on that page and send it. This is probably the most common method.\n",
    "\n",
    "HEAD\n",
    "    The browser tells the server to get the information, but it is only interested in the headers, not the content of the page. An application is supposed to handle that as if a GET request was received but to not deliver the actual content.\n",
    "    \n",
    "POST\n",
    "    The browser tells the server that it wants to post some new information to that URL and that the server must ensure the data is stored and only stored once. This is how HTML forms usually transmit data to the server.\n",
    "\n",
    "PUT\n",
    "    Similar to POST but the server might trigger the store procedure multiple times by overwriting the old values more than once. Now you might be asking why this is useful, but there are some good reasons to do it this way. Consider that the connection is lost during transmission: in this situation a system between the browser and the server might receive the request safely a second time without breaking things. With POST that would not be possible because it must only be triggered once.\n",
    "\n",
    "DELETE\n",
    "    Remove the information at the given location.\n",
    "\n",
    "OPTIONS\n",
    "    Provides a quick way for a client to figure out which methods are supported by this URL. Starting with Flask 0.6, this is implemented for you automatically. "
   ]
  },
  {
   "cell_type": "raw",
   "metadata": {},
   "source": [
    "JavaScript Object Notation, es un formato de texto ligero para el intercambio de datos\n",
    "JSON is text, written with JavaScript object notation.\n",
    "    JSON is data exchange format. You convert to it when you need to make the data available externally. \n",
    "var myObj = { \"name\":\"John\", \"age\":31, \"city\":\"New York\" };"
   ]
  },
  {
   "cell_type": "raw",
   "metadata": {},
   "source": [
    "http://jsonprettyprint.com/\n",
    "https://jsonformatter.curiousconcept.com/"
   ]
  }
 ],
 "metadata": {
  "kernelspec": {
   "display_name": "Python 3",
   "language": "python",
   "name": "python3"
  },
  "language_info": {
   "codemirror_mode": {
    "name": "ipython",
    "version": 3
   },
   "file_extension": ".py",
   "mimetype": "text/x-python",
   "name": "python",
   "nbconvert_exporter": "python",
   "pygments_lexer": "ipython3",
   "version": "3.6.4"
  }
 },
 "nbformat": 4,
 "nbformat_minor": 1
}
