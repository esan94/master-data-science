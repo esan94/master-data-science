{
 "cells": [
  {
   "cell_type": "markdown",
   "metadata": {
    "collapsed": true
   },
   "source": [
    "## Top 10 arrival airports in the world in 2013 (using the bookings file)\n",
    "\n",
    "Arrival airport is the column arr_port. It is the IATA code for the airport\n",
    "\n",
    "To get the total number of passengers for an airport, you can sum the \"pax\" column, grouping by arr_port.\n",
    "\n",
    "Note that there is negative pax. That corresponds to cancelations. So to get the total number of passengers that have actually booked, you should sum including the negatives (that will remove the canceled bookings).\n",
    "\n",
    "Print the top 10 arrival airports in the standard output, including the number of passengers.\n",
    "\n",
    "Bonus point: Get the name of the city or airport corresponding to that airport (programatically, we suggest to have a look at [neobase in Github](https://github.com/alexprengere/neobase))\n",
    "\n",
    "Bonus point: Solve this problem using pandas (instead of any other approach)\n"
   ]
  },
  {
   "cell_type": "markdown",
   "metadata": {},
   "source": [
    "Suggestion: follow the below plan of action:\n",
    "\n",
    "* Get familiar with the data\n",
    "* Select columns of interest\n",
    "* Decide what to do with NaNs\n",
    "\n",
    "* Make processing plan\n",
    "* Develop code that works with a sample\n",
    "\n",
    "* Adjust the code to work with Big data\n",
    "* Test big data approach on a sample\n",
    "\n",
    "* Run program with big data\n"
   ]
  },
  {
   "cell_type": "markdown",
   "metadata": {},
   "source": [
    "## 1) Get familiar with data"
   ]
  },
  {
   "cell_type": "code",
   "execution_count": 1,
   "metadata": {},
   "outputs": [],
   "source": [
    "import pandas as pd"
   ]
  },
  {
   "cell_type": "code",
   "execution_count": 2,
   "metadata": {},
   "outputs": [],
   "source": [
    "def columns_csv(file, compression, sep):\n",
    "    \"\"\"\n",
    "    To know which number fits with wich col name\n",
    "    \n",
    "    :param str file: Input file.\n",
    "    :param str compression: Type of compression.\n",
    "    :param str sep: Type o separator\n",
    "    \n",
    "    return: a dataframe with name of column and number\n",
    "    \"\"\"\n",
    "    return pd.Series(pd.read_csv(file, compression=compression, header=None, nrows=1, sep=sep).T[0]).str.strip()"
   ]
  },
  {
   "cell_type": "code",
   "execution_count": 3,
   "metadata": {},
   "outputs": [],
   "source": [
    "columns = columns_csv('bookings.csv.bz2', 'bz2', '^')"
   ]
  },
  {
   "cell_type": "code",
   "execution_count": 4,
   "metadata": {},
   "outputs": [],
   "source": [
    "list_cols_to_use = []\n",
    "list_cols_to_use.append(columns[columns == 'arr_port'].index[0])\n",
    "list_cols_to_use.append(columns[columns == 'pax'].index[0])\n",
    "list_cols_to_use.append(columns[columns == 'cre_date'].index[0])\n",
    "list_cols_to_use.append(columns[columns == 'act_date'].index[0])\n",
    "list_cols_to_use.append(columns[columns == 'year'].index[0])"
   ]
  },
  {
   "cell_type": "code",
   "execution_count": 5,
   "metadata": {},
   "outputs": [
    {
     "data": {
      "text/plain": [
       "[12, 34, 6, 0, 35]"
      ]
     },
     "execution_count": 5,
     "metadata": {},
     "output_type": "execute_result"
    }
   ],
   "source": [
    "list_cols_to_use"
   ]
  },
  {
   "cell_type": "markdown",
   "metadata": {},
   "source": [
    "### What if we dont want to read the whole file?"
   ]
  },
  {
   "cell_type": "markdown",
   "metadata": {},
   "source": [
    "Options:\n",
    "\n",
    "* prepare the sample\n",
    "\n",
    "* read_csv with nrows option"
   ]
  },
  {
   "cell_type": "code",
   "execution_count": 6,
   "metadata": {},
   "outputs": [
    {
     "name": "stdout",
     "output_type": "stream",
     "text": [
      "CPU times: user 5min 26s, sys: 4.87 s, total: 5min 31s\n",
      "Wall time: 5min 41s\n"
     ]
    }
   ],
   "source": [
    "%%time\n",
    "df = pd.read_csv('bookings.csv.bz2', compression='bz2', header=0, usecols=list_cols_to_use, sep='^')"
   ]
  },
  {
   "cell_type": "code",
   "execution_count": 7,
   "metadata": {},
   "outputs": [],
   "source": [
    "# Other solution to read the file is reading a sample of that using:\n",
    "# df = pd.read_csv('bookings.csv.bz2', compression='bz2', header=0, nrows=10000, sep='^')\n",
    "# and then you ca choose the columns of interest"
   ]
  },
  {
   "cell_type": "code",
   "execution_count": 8,
   "metadata": {},
   "outputs": [
    {
     "data": {
      "text/plain": [
       "(10000010, 5)"
      ]
     },
     "execution_count": 8,
     "metadata": {},
     "output_type": "execute_result"
    }
   ],
   "source": [
    "df.shape"
   ]
  },
  {
   "cell_type": "code",
   "execution_count": 9,
   "metadata": {},
   "outputs": [
    {
     "name": "stdout",
     "output_type": "stream",
     "text": [
      "<class 'pandas.core.frame.DataFrame'>\n",
      "RangeIndex: 10000010 entries, 0 to 10000009\n",
      "Data columns (total 5 columns):\n",
      "act_date               object\n",
      "cre_date               object\n",
      "arr_port               object\n",
      "pax                    float64\n",
      "year                   float64\n",
      "dtypes: float64(2), object(3)\n",
      "memory usage: 381.5+ MB\n"
     ]
    }
   ],
   "source": [
    "df.info()"
   ]
  },
  {
   "cell_type": "code",
   "execution_count": 10,
   "metadata": {},
   "outputs": [
    {
     "data": {
      "text/html": [
       "<div>\n",
       "<style scoped>\n",
       "    .dataframe tbody tr th:only-of-type {\n",
       "        vertical-align: middle;\n",
       "    }\n",
       "\n",
       "    .dataframe tbody tr th {\n",
       "        vertical-align: top;\n",
       "    }\n",
       "\n",
       "    .dataframe thead th {\n",
       "        text-align: right;\n",
       "    }\n",
       "</style>\n",
       "<table border=\"1\" class=\"dataframe\">\n",
       "  <thead>\n",
       "    <tr style=\"text-align: right;\">\n",
       "      <th></th>\n",
       "      <th>act_date</th>\n",
       "      <th>cre_date</th>\n",
       "      <th>arr_port</th>\n",
       "      <th>pax</th>\n",
       "      <th>year</th>\n",
       "    </tr>\n",
       "  </thead>\n",
       "  <tbody>\n",
       "    <tr>\n",
       "      <th>0</th>\n",
       "      <td>2013-03-05 00:00:00</td>\n",
       "      <td>2013-02-22 00:00:00</td>\n",
       "      <td>LHR</td>\n",
       "      <td>-1.0</td>\n",
       "      <td>2013.0</td>\n",
       "    </tr>\n",
       "    <tr>\n",
       "      <th>1</th>\n",
       "      <td>2013-03-26 00:00:00</td>\n",
       "      <td>2013-03-26 00:00:00</td>\n",
       "      <td>CLT</td>\n",
       "      <td>1.0</td>\n",
       "      <td>2013.0</td>\n",
       "    </tr>\n",
       "    <tr>\n",
       "      <th>2</th>\n",
       "      <td>2013-03-26 00:00:00</td>\n",
       "      <td>2013-03-26 00:00:00</td>\n",
       "      <td>CLT</td>\n",
       "      <td>1.0</td>\n",
       "      <td>2013.0</td>\n",
       "    </tr>\n",
       "    <tr>\n",
       "      <th>3</th>\n",
       "      <td>2013-03-26 00:00:00</td>\n",
       "      <td>2013-03-26 00:00:00</td>\n",
       "      <td>SVO</td>\n",
       "      <td>1.0</td>\n",
       "      <td>2013.0</td>\n",
       "    </tr>\n",
       "    <tr>\n",
       "      <th>4</th>\n",
       "      <td>2013-03-26 00:00:00</td>\n",
       "      <td>2013-03-26 00:00:00</td>\n",
       "      <td>SVO</td>\n",
       "      <td>1.0</td>\n",
       "      <td>2013.0</td>\n",
       "    </tr>\n",
       "  </tbody>\n",
       "</table>\n",
       "</div>"
      ],
      "text/plain": [
       "   act_date             cre_date             arr_port  pax    year\n",
       "0  2013-03-05 00:00:00  2013-02-22 00:00:00  LHR      -1.0  2013.0\n",
       "1  2013-03-26 00:00:00  2013-03-26 00:00:00  CLT       1.0  2013.0\n",
       "2  2013-03-26 00:00:00  2013-03-26 00:00:00  CLT       1.0  2013.0\n",
       "3  2013-03-26 00:00:00  2013-03-26 00:00:00  SVO       1.0  2013.0\n",
       "4  2013-03-26 00:00:00  2013-03-26 00:00:00  SVO       1.0  2013.0"
      ]
     },
     "execution_count": 10,
     "metadata": {},
     "output_type": "execute_result"
    }
   ],
   "source": [
    "df.head()"
   ]
  },
  {
   "cell_type": "code",
   "execution_count": 11,
   "metadata": {},
   "outputs": [
    {
     "data": {
      "text/html": [
       "<div>\n",
       "<style scoped>\n",
       "    .dataframe tbody tr th:only-of-type {\n",
       "        vertical-align: middle;\n",
       "    }\n",
       "\n",
       "    .dataframe tbody tr th {\n",
       "        vertical-align: top;\n",
       "    }\n",
       "\n",
       "    .dataframe thead th {\n",
       "        text-align: right;\n",
       "    }\n",
       "</style>\n",
       "<table border=\"1\" class=\"dataframe\">\n",
       "  <thead>\n",
       "    <tr style=\"text-align: right;\">\n",
       "      <th></th>\n",
       "      <th>act_date</th>\n",
       "      <th>cre_date</th>\n",
       "      <th>arr_port</th>\n",
       "      <th>pax</th>\n",
       "      <th>year</th>\n",
       "    </tr>\n",
       "  </thead>\n",
       "  <tbody>\n",
       "    <tr>\n",
       "      <th>648361</th>\n",
       "      <td>2013-05-17 00:00:00</td>\n",
       "      <td>2013-05-17 00:00:00</td>\n",
       "      <td>IST</td>\n",
       "      <td>3.0</td>\n",
       "      <td>2013.0</td>\n",
       "    </tr>\n",
       "    <tr>\n",
       "      <th>8599053</th>\n",
       "      <td>2013-09-06 00:00:00</td>\n",
       "      <td>2013-09-06 00:00:00</td>\n",
       "      <td>SCL</td>\n",
       "      <td>1.0</td>\n",
       "      <td>2013.0</td>\n",
       "    </tr>\n",
       "    <tr>\n",
       "      <th>5912239</th>\n",
       "      <td>2013-01-29 00:00:00</td>\n",
       "      <td>2013-01-29 00:00:00</td>\n",
       "      <td>LUX</td>\n",
       "      <td>1.0</td>\n",
       "      <td>2013.0</td>\n",
       "    </tr>\n",
       "    <tr>\n",
       "      <th>2757129</th>\n",
       "      <td>2013-10-07 00:00:00</td>\n",
       "      <td>2013-10-06 00:00:00</td>\n",
       "      <td>ICN</td>\n",
       "      <td>-1.0</td>\n",
       "      <td>2013.0</td>\n",
       "    </tr>\n",
       "    <tr>\n",
       "      <th>7118718</th>\n",
       "      <td>2013-04-24 00:00:00</td>\n",
       "      <td>2013-04-24 00:00:00</td>\n",
       "      <td>TLV</td>\n",
       "      <td>1.0</td>\n",
       "      <td>2013.0</td>\n",
       "    </tr>\n",
       "    <tr>\n",
       "      <th>1726465</th>\n",
       "      <td>2013-12-09 00:00:00</td>\n",
       "      <td>2013-04-30 00:00:00</td>\n",
       "      <td>FSZ</td>\n",
       "      <td>-2.0</td>\n",
       "      <td>2013.0</td>\n",
       "    </tr>\n",
       "    <tr>\n",
       "      <th>9370283</th>\n",
       "      <td>2013-04-29 00:00:00</td>\n",
       "      <td>2013-04-19 00:00:00</td>\n",
       "      <td>CFU</td>\n",
       "      <td>-3.0</td>\n",
       "      <td>2013.0</td>\n",
       "    </tr>\n",
       "  </tbody>\n",
       "</table>\n",
       "</div>"
      ],
      "text/plain": [
       "         act_date             cre_date             arr_port  pax    year\n",
       "648361   2013-05-17 00:00:00  2013-05-17 00:00:00  IST       3.0  2013.0\n",
       "8599053  2013-09-06 00:00:00  2013-09-06 00:00:00  SCL       1.0  2013.0\n",
       "5912239  2013-01-29 00:00:00  2013-01-29 00:00:00  LUX       1.0  2013.0\n",
       "2757129  2013-10-07 00:00:00  2013-10-06 00:00:00  ICN      -1.0  2013.0\n",
       "7118718  2013-04-24 00:00:00  2013-04-24 00:00:00  TLV       1.0  2013.0\n",
       "1726465  2013-12-09 00:00:00  2013-04-30 00:00:00  FSZ      -2.0  2013.0\n",
       "9370283  2013-04-29 00:00:00  2013-04-19 00:00:00  CFU      -3.0  2013.0"
      ]
     },
     "execution_count": 11,
     "metadata": {},
     "output_type": "execute_result"
    }
   ],
   "source": [
    "df.sample(7)"
   ]
  },
  {
   "cell_type": "code",
   "execution_count": 12,
   "metadata": {},
   "outputs": [
    {
     "data": {
      "text/html": [
       "<div>\n",
       "<style scoped>\n",
       "    .dataframe tbody tr th:only-of-type {\n",
       "        vertical-align: middle;\n",
       "    }\n",
       "\n",
       "    .dataframe tbody tr th {\n",
       "        vertical-align: top;\n",
       "    }\n",
       "\n",
       "    .dataframe thead th {\n",
       "        text-align: right;\n",
       "    }\n",
       "</style>\n",
       "<table border=\"1\" class=\"dataframe\">\n",
       "  <thead>\n",
       "    <tr style=\"text-align: right;\">\n",
       "      <th></th>\n",
       "      <th>pax</th>\n",
       "      <th>year</th>\n",
       "    </tr>\n",
       "  </thead>\n",
       "  <tbody>\n",
       "    <tr>\n",
       "      <th>count</th>\n",
       "      <td>1.000001e+07</td>\n",
       "      <td>10000009.0</td>\n",
       "    </tr>\n",
       "    <tr>\n",
       "      <th>mean</th>\n",
       "      <td>4.908805e-01</td>\n",
       "      <td>2013.0</td>\n",
       "    </tr>\n",
       "    <tr>\n",
       "      <th>std</th>\n",
       "      <td>2.199173e+00</td>\n",
       "      <td>0.0</td>\n",
       "    </tr>\n",
       "    <tr>\n",
       "      <th>min</th>\n",
       "      <td>-9.000000e+01</td>\n",
       "      <td>2013.0</td>\n",
       "    </tr>\n",
       "    <tr>\n",
       "      <th>25%</th>\n",
       "      <td>-1.000000e+00</td>\n",
       "      <td>2013.0</td>\n",
       "    </tr>\n",
       "    <tr>\n",
       "      <th>50%</th>\n",
       "      <td>1.000000e+00</td>\n",
       "      <td>2013.0</td>\n",
       "    </tr>\n",
       "    <tr>\n",
       "      <th>75%</th>\n",
       "      <td>1.000000e+00</td>\n",
       "      <td>2013.0</td>\n",
       "    </tr>\n",
       "    <tr>\n",
       "      <th>max</th>\n",
       "      <td>9.900000e+01</td>\n",
       "      <td>2013.0</td>\n",
       "    </tr>\n",
       "  </tbody>\n",
       "</table>\n",
       "</div>"
      ],
      "text/plain": [
       "                pax        year\n",
       "count  1.000001e+07  10000009.0\n",
       "mean   4.908805e-01      2013.0\n",
       "std    2.199173e+00         0.0\n",
       "min   -9.000000e+01      2013.0\n",
       "25%   -1.000000e+00      2013.0\n",
       "50%    1.000000e+00      2013.0\n",
       "75%    1.000000e+00      2013.0\n",
       "max    9.900000e+01      2013.0"
      ]
     },
     "execution_count": 12,
     "metadata": {},
     "output_type": "execute_result"
    }
   ],
   "source": [
    "df.describe()"
   ]
  },
  {
   "cell_type": "code",
   "execution_count": 13,
   "metadata": {},
   "outputs": [
    {
     "data": {
      "text/html": [
       "<div>\n",
       "<style scoped>\n",
       "    .dataframe tbody tr th:only-of-type {\n",
       "        vertical-align: middle;\n",
       "    }\n",
       "\n",
       "    .dataframe tbody tr th {\n",
       "        vertical-align: top;\n",
       "    }\n",
       "\n",
       "    .dataframe thead th {\n",
       "        text-align: right;\n",
       "    }\n",
       "</style>\n",
       "<table border=\"1\" class=\"dataframe\">\n",
       "  <thead>\n",
       "    <tr style=\"text-align: right;\">\n",
       "      <th></th>\n",
       "      <th>act_date</th>\n",
       "      <th>cre_date</th>\n",
       "      <th>arr_port</th>\n",
       "      <th>pax</th>\n",
       "      <th>year</th>\n",
       "    </tr>\n",
       "  </thead>\n",
       "  <tbody>\n",
       "    <tr>\n",
       "      <th>count</th>\n",
       "      <td>10000010</td>\n",
       "      <td>10000010</td>\n",
       "      <td>10000010</td>\n",
       "      <td>1.000001e+07</td>\n",
       "      <td>10000009.0</td>\n",
       "    </tr>\n",
       "    <tr>\n",
       "      <th>unique</th>\n",
       "      <td>365</td>\n",
       "      <td>719</td>\n",
       "      <td>2275</td>\n",
       "      <td>NaN</td>\n",
       "      <td>NaN</td>\n",
       "    </tr>\n",
       "    <tr>\n",
       "      <th>top</th>\n",
       "      <td>2013-01-16 00:00:00</td>\n",
       "      <td>2013-01-14 00:00:00</td>\n",
       "      <td>LHR</td>\n",
       "      <td>NaN</td>\n",
       "      <td>NaN</td>\n",
       "    </tr>\n",
       "    <tr>\n",
       "      <th>freq</th>\n",
       "      <td>133330</td>\n",
       "      <td>132250</td>\n",
       "      <td>215551</td>\n",
       "      <td>NaN</td>\n",
       "      <td>NaN</td>\n",
       "    </tr>\n",
       "    <tr>\n",
       "      <th>mean</th>\n",
       "      <td>NaN</td>\n",
       "      <td>NaN</td>\n",
       "      <td>NaN</td>\n",
       "      <td>4.908805e-01</td>\n",
       "      <td>2013.0</td>\n",
       "    </tr>\n",
       "    <tr>\n",
       "      <th>std</th>\n",
       "      <td>NaN</td>\n",
       "      <td>NaN</td>\n",
       "      <td>NaN</td>\n",
       "      <td>2.199173e+00</td>\n",
       "      <td>0.0</td>\n",
       "    </tr>\n",
       "    <tr>\n",
       "      <th>min</th>\n",
       "      <td>NaN</td>\n",
       "      <td>NaN</td>\n",
       "      <td>NaN</td>\n",
       "      <td>-9.000000e+01</td>\n",
       "      <td>2013.0</td>\n",
       "    </tr>\n",
       "    <tr>\n",
       "      <th>25%</th>\n",
       "      <td>NaN</td>\n",
       "      <td>NaN</td>\n",
       "      <td>NaN</td>\n",
       "      <td>-1.000000e+00</td>\n",
       "      <td>2013.0</td>\n",
       "    </tr>\n",
       "    <tr>\n",
       "      <th>50%</th>\n",
       "      <td>NaN</td>\n",
       "      <td>NaN</td>\n",
       "      <td>NaN</td>\n",
       "      <td>1.000000e+00</td>\n",
       "      <td>2013.0</td>\n",
       "    </tr>\n",
       "    <tr>\n",
       "      <th>75%</th>\n",
       "      <td>NaN</td>\n",
       "      <td>NaN</td>\n",
       "      <td>NaN</td>\n",
       "      <td>1.000000e+00</td>\n",
       "      <td>2013.0</td>\n",
       "    </tr>\n",
       "    <tr>\n",
       "      <th>max</th>\n",
       "      <td>NaN</td>\n",
       "      <td>NaN</td>\n",
       "      <td>NaN</td>\n",
       "      <td>9.900000e+01</td>\n",
       "      <td>2013.0</td>\n",
       "    </tr>\n",
       "  </tbody>\n",
       "</table>\n",
       "</div>"
      ],
      "text/plain": [
       "        act_date             cre_date             arr_port           pax  \\\n",
       "count              10000010             10000010  10000010  1.000001e+07   \n",
       "unique                  365                  719      2275           NaN   \n",
       "top     2013-01-16 00:00:00  2013-01-14 00:00:00  LHR                NaN   \n",
       "freq                 133330               132250    215551           NaN   \n",
       "mean                    NaN                  NaN       NaN  4.908805e-01   \n",
       "std                     NaN                  NaN       NaN  2.199173e+00   \n",
       "min                     NaN                  NaN       NaN -9.000000e+01   \n",
       "25%                     NaN                  NaN       NaN -1.000000e+00   \n",
       "50%                     NaN                  NaN       NaN  1.000000e+00   \n",
       "75%                     NaN                  NaN       NaN  1.000000e+00   \n",
       "max                     NaN                  NaN       NaN  9.900000e+01   \n",
       "\n",
       "              year  \n",
       "count   10000009.0  \n",
       "unique         NaN  \n",
       "top            NaN  \n",
       "freq           NaN  \n",
       "mean        2013.0  \n",
       "std            0.0  \n",
       "min         2013.0  \n",
       "25%         2013.0  \n",
       "50%         2013.0  \n",
       "75%         2013.0  \n",
       "max         2013.0  "
      ]
     },
     "execution_count": 13,
     "metadata": {},
     "output_type": "execute_result"
    }
   ],
   "source": [
    "df.describe(include='all')"
   ]
  },
  {
   "cell_type": "code",
   "execution_count": 14,
   "metadata": {},
   "outputs": [
    {
     "data": {
      "text/plain": [
       "act_date                object\n",
       "cre_date                object\n",
       "arr_port                object\n",
       "pax                    float64\n",
       "year                   float64\n",
       "dtype: object"
      ]
     },
     "execution_count": 14,
     "metadata": {},
     "output_type": "execute_result"
    }
   ],
   "source": [
    "df.dtypes"
   ]
  },
  {
   "cell_type": "code",
   "execution_count": 15,
   "metadata": {},
   "outputs": [
    {
     "data": {
      "text/plain": [
       "act_date               0\n",
       "cre_date               0\n",
       "arr_port               0\n",
       "pax                    1\n",
       "year                   1\n",
       "dtype: int64"
      ]
     },
     "execution_count": 15,
     "metadata": {},
     "output_type": "execute_result"
    }
   ],
   "source": [
    "df.isnull().sum()"
   ]
  },
  {
   "cell_type": "code",
   "execution_count": 16,
   "metadata": {},
   "outputs": [
    {
     "data": {
      "text/plain": [
       "act_date               10000010\n",
       "cre_date               10000010\n",
       "arr_port               10000010\n",
       "pax                    10000009\n",
       "year                   10000009\n",
       "dtype: int64"
      ]
     },
     "execution_count": 16,
     "metadata": {},
     "output_type": "execute_result"
    }
   ],
   "source": [
    "df.count()"
   ]
  },
  {
   "cell_type": "code",
   "execution_count": 17,
   "metadata": {},
   "outputs": [],
   "source": [
    "pd.set_option('display.max_columns', None)"
   ]
  },
  {
   "cell_type": "code",
   "execution_count": 18,
   "metadata": {},
   "outputs": [],
   "source": [
    "non_null_counts = df.count()"
   ]
  },
  {
   "cell_type": "markdown",
   "metadata": {},
   "source": [
    "Clean the column names"
   ]
  },
  {
   "cell_type": "code",
   "execution_count": 19,
   "metadata": {},
   "outputs": [],
   "source": [
    "df.columns = df.columns.str.strip()"
   ]
  },
  {
   "cell_type": "markdown",
   "metadata": {},
   "source": [
    "## 2) Select the columns of interest "
   ]
  },
  {
   "cell_type": "code",
   "execution_count": 20,
   "metadata": {},
   "outputs": [],
   "source": [
    "df = df[['pax', 'arr_port']]"
   ]
  },
  {
   "cell_type": "markdown",
   "metadata": {},
   "source": [
    "## 3) What to do with NaN?\n",
    "\n"
   ]
  },
  {
   "cell_type": "markdown",
   "metadata": {},
   "source": [
    "In the sample everything might be ok, but we should prepare for NaN case"
   ]
  },
  {
   "cell_type": "code",
   "execution_count": 21,
   "metadata": {},
   "outputs": [
    {
     "data": {
      "text/plain": [
       "pax         0\n",
       "arr_port    0\n",
       "dtype: int64"
      ]
     },
     "execution_count": 21,
     "metadata": {},
     "output_type": "execute_result"
    }
   ],
   "source": [
    "df = df.dropna()\n",
    "df.isnull().sum()"
   ]
  },
  {
   "cell_type": "markdown",
   "metadata": {},
   "source": [
    "## 4) Make processing plan\n",
    "1) get only the bookings from 2013\n",
    "\n",
    "2) group by arr_port, sum\n",
    "\n",
    "3) sort \n",
    "\n",
    "4) get top 10"
   ]
  },
  {
   "cell_type": "markdown",
   "metadata": {},
   "source": [
    "#### 4.1) Get only the booking from 2013"
   ]
  },
  {
   "cell_type": "code",
   "execution_count": 22,
   "metadata": {},
   "outputs": [],
   "source": [
    "# All rows are in 2013\n",
    "# In case the previous statement were false just doing:\n",
    "# bookings_2013 = df[df['year'] == 2013]"
   ]
  },
  {
   "cell_type": "markdown",
   "metadata": {},
   "source": [
    "#### 4.2) group by arr_port, sum"
   ]
  },
  {
   "cell_type": "code",
   "execution_count": 23,
   "metadata": {},
   "outputs": [],
   "source": [
    "max_ten = df.groupby(by='arr_port').sum().sort_values(by='pax', ascending=False).head(10)"
   ]
  },
  {
   "cell_type": "code",
   "execution_count": 24,
   "metadata": {},
   "outputs": [
    {
     "data": {
      "text/html": [
       "<div>\n",
       "<style scoped>\n",
       "    .dataframe tbody tr th:only-of-type {\n",
       "        vertical-align: middle;\n",
       "    }\n",
       "\n",
       "    .dataframe tbody tr th {\n",
       "        vertical-align: top;\n",
       "    }\n",
       "\n",
       "    .dataframe thead th {\n",
       "        text-align: right;\n",
       "    }\n",
       "</style>\n",
       "<table border=\"1\" class=\"dataframe\">\n",
       "  <thead>\n",
       "    <tr style=\"text-align: right;\">\n",
       "      <th></th>\n",
       "      <th>pax</th>\n",
       "    </tr>\n",
       "    <tr>\n",
       "      <th>arr_port</th>\n",
       "      <th></th>\n",
       "    </tr>\n",
       "  </thead>\n",
       "  <tbody>\n",
       "    <tr>\n",
       "      <th>LHR</th>\n",
       "      <td>88809.0</td>\n",
       "    </tr>\n",
       "    <tr>\n",
       "      <th>MCO</th>\n",
       "      <td>70930.0</td>\n",
       "    </tr>\n",
       "    <tr>\n",
       "      <th>LAX</th>\n",
       "      <td>70530.0</td>\n",
       "    </tr>\n",
       "    <tr>\n",
       "      <th>LAS</th>\n",
       "      <td>69630.0</td>\n",
       "    </tr>\n",
       "    <tr>\n",
       "      <th>JFK</th>\n",
       "      <td>66270.0</td>\n",
       "    </tr>\n",
       "    <tr>\n",
       "      <th>CDG</th>\n",
       "      <td>64490.0</td>\n",
       "    </tr>\n",
       "    <tr>\n",
       "      <th>BKK</th>\n",
       "      <td>59460.0</td>\n",
       "    </tr>\n",
       "    <tr>\n",
       "      <th>MIA</th>\n",
       "      <td>58150.0</td>\n",
       "    </tr>\n",
       "    <tr>\n",
       "      <th>SFO</th>\n",
       "      <td>58000.0</td>\n",
       "    </tr>\n",
       "    <tr>\n",
       "      <th>DXB</th>\n",
       "      <td>55590.0</td>\n",
       "    </tr>\n",
       "  </tbody>\n",
       "</table>\n",
       "</div>"
      ],
      "text/plain": [
       "              pax\n",
       "arr_port         \n",
       "LHR       88809.0\n",
       "MCO       70930.0\n",
       "LAX       70530.0\n",
       "LAS       69630.0\n",
       "JFK       66270.0\n",
       "CDG       64490.0\n",
       "BKK       59460.0\n",
       "MIA       58150.0\n",
       "SFO       58000.0\n",
       "DXB       55590.0"
      ]
     },
     "execution_count": 24,
     "metadata": {},
     "output_type": "execute_result"
    }
   ],
   "source": [
    "max_ten"
   ]
  },
  {
   "cell_type": "markdown",
   "metadata": {},
   "source": [
    "## 5) Adjust the code to work with Big data\n",
    "\n",
    "\n",
    "Hint: check out https://pandas.pydata.org/pandas-docs/stable/io.html#io-chunking"
   ]
  },
  {
   "cell_type": "code",
   "execution_count": 25,
   "metadata": {},
   "outputs": [
    {
     "data": {
      "text/plain": [
       "<pandas.io.parsers.TextFileReader at 0x7f78f1f21198>"
      ]
     },
     "execution_count": 25,
     "metadata": {},
     "output_type": "execute_result"
    }
   ],
   "source": [
    "reader = pd.read_csv('bookings.csv.bz2', compression='bz2', nrows=100000, sep='^', chunksize=20000)\n",
    "reader"
   ]
  },
  {
   "cell_type": "code",
   "execution_count": 26,
   "metadata": {},
   "outputs": [],
   "source": [
    "partial_results = []\n",
    "for chunk in reader:\n",
    "    bookings_2013 = chunk[chunk['year'] == 2013] \n",
    "    totals = bookings_2013.groupby('arr_port')['pax'].sum()\n",
    "    partial_results.append(totals)"
   ]
  },
  {
   "cell_type": "code",
   "execution_count": 27,
   "metadata": {},
   "outputs": [
    {
     "data": {
      "text/plain": [
       "[arr_port\n",
       " AAL          3\n",
       " ABJ          3\n",
       " ABQ         18\n",
       " ABV          9\n",
       " ABY          1\n",
       " Name: pax, dtype: int64, arr_port\n",
       " AAE         0\n",
       " AAL         1\n",
       " AAQ         1\n",
       " ABE         4\n",
       " ABJ         3\n",
       " Name: pax, dtype: int64, arr_port\n",
       " AAE          2\n",
       " AAL          8\n",
       " ABE         12\n",
       " ABJ          9\n",
       " ABQ          7\n",
       " Name: pax, dtype: int64, arr_port\n",
       " AAR         2\n",
       " ABJ         0\n",
       " ABQ         2\n",
       " ABS         6\n",
       " ABV         6\n",
       " Name: pax, dtype: int64, arr_port\n",
       " AAL         4\n",
       " AAQ         4\n",
       " AAR         2\n",
       " ABJ         6\n",
       " ABQ         6\n",
       " Name: pax, dtype: int64]"
      ]
     },
     "execution_count": 27,
     "metadata": {},
     "output_type": "execute_result"
    }
   ],
   "source": [
    "[partial.head() for partial in partial_results] "
   ]
  },
  {
   "cell_type": "code",
   "execution_count": 28,
   "metadata": {},
   "outputs": [
    {
     "data": {
      "text/plain": [
       "ABQ    18\n",
       "ABQ    23\n",
       "ABQ     7\n",
       "ABQ     2\n",
       "ABQ     6\n",
       "Name: pax, dtype: int64"
      ]
     },
     "execution_count": 28,
     "metadata": {},
     "output_type": "execute_result"
    }
   ],
   "source": [
    "all_results = pd.concat(partial_results)\n",
    "all_results.index = all_results.index.str.strip()\n",
    "all_results['ABQ']"
   ]
  },
  {
   "cell_type": "code",
   "execution_count": 29,
   "metadata": {},
   "outputs": [
    {
     "data": {
      "text/plain": [
       "arr_port\n",
       "LHR    1006\n",
       "MCO     861\n",
       "JFK     795\n",
       "LAX     761\n",
       "BKK     747\n",
       "LAS     732\n",
       "SFO     705\n",
       "ORD     686\n",
       "CDG     676\n",
       "DXB     587\n",
       "Name: pax, dtype: int64"
      ]
     },
     "execution_count": 29,
     "metadata": {},
     "output_type": "execute_result"
    }
   ],
   "source": [
    "totals = all_results.groupby('arr_port').sum()\n",
    "totals.sort_values(ascending=False).head(10)"
   ]
  },
  {
   "cell_type": "markdown",
   "metadata": {},
   "source": [
    "## Final solution working like big data"
   ]
  },
  {
   "cell_type": "code",
   "execution_count": 30,
   "metadata": {},
   "outputs": [
    {
     "name": "stdout",
     "output_type": "stream",
     "text": [
      "Starting with chunk 00 at 2018-12-07 17:00:14.666041\n",
      "Starting with chunk 01 at 2018-12-07 17:00:23.104304\n",
      "Starting with chunk 02 at 2018-12-07 17:00:31.899589\n",
      "Starting with chunk 03 at 2018-12-07 17:00:40.797776\n",
      "Starting with chunk 04 at 2018-12-07 17:00:49.953816\n",
      "Starting with chunk 05 at 2018-12-07 17:00:59.160410\n",
      "Starting with chunk 06 at 2018-12-07 17:01:09.163172\n",
      "Starting with chunk 07 at 2018-12-07 17:01:18.005263\n",
      "Starting with chunk 08 at 2018-12-07 17:01:26.978722\n",
      "Starting with chunk 09 at 2018-12-07 17:01:35.884132\n",
      "Starting with chunk 10 at 2018-12-07 17:01:44.767137\n",
      "Starting with chunk 11 at 2018-12-07 17:01:53.368129\n",
      "Starting with chunk 12 at 2018-12-07 17:02:02.723806\n",
      "Starting with chunk 13 at 2018-12-07 17:02:11.527079\n",
      "Starting with chunk 14 at 2018-12-07 17:02:20.139411\n",
      "Starting with chunk 15 at 2018-12-07 17:02:29.086175\n",
      "Starting with chunk 16 at 2018-12-07 17:02:38.011768\n",
      "Starting with chunk 17 at 2018-12-07 17:02:46.700628\n",
      "Starting with chunk 18 at 2018-12-07 17:02:56.175413\n",
      "Starting with chunk 19 at 2018-12-07 17:03:06.420156\n",
      "Starting with chunk 20 at 2018-12-07 17:03:16.681668\n",
      "Starting with chunk 21 at 2018-12-07 17:03:33.919107\n",
      "Starting with chunk 22 at 2018-12-07 17:03:47.407770\n",
      "Starting with chunk 23 at 2018-12-07 17:03:56.608576\n",
      "Starting with chunk 24 at 2018-12-07 17:04:09.755799\n"
     ]
    },
    {
     "name": "stderr",
     "output_type": "stream",
     "text": [
      "<string>:2: DtypeWarning: Columns (7,8,27) have mixed types. Specify dtype option on import or set low_memory=False.\n"
     ]
    },
    {
     "name": "stdout",
     "output_type": "stream",
     "text": [
      "Starting with chunk 25 at 2018-12-07 17:04:23.471203\n",
      "Starting with chunk 26 at 2018-12-07 17:04:33.033892\n",
      "Starting with chunk 27 at 2018-12-07 17:04:41.781405\n",
      "Starting with chunk 28 at 2018-12-07 17:04:50.450917\n",
      "Starting with chunk 29 at 2018-12-07 17:04:59.077423\n",
      "Starting with chunk 30 at 2018-12-07 17:05:08.353215\n",
      "Starting with chunk 31 at 2018-12-07 17:05:17.651714\n",
      "Starting with chunk 32 at 2018-12-07 17:05:27.283362\n",
      "Starting with chunk 33 at 2018-12-07 17:05:36.092714\n",
      "Starting with chunk 34 at 2018-12-07 17:05:45.022410\n",
      "Starting with chunk 35 at 2018-12-07 17:05:55.380035\n",
      "Starting with chunk 36 at 2018-12-07 17:06:06.542088\n",
      "Starting with chunk 37 at 2018-12-07 17:06:17.770574\n",
      "Starting with chunk 38 at 2018-12-07 17:06:30.247528\n",
      "Starting with chunk 39 at 2018-12-07 17:06:44.746047\n",
      "Starting with chunk 40 at 2018-12-07 17:07:03.870320\n",
      "Starting with chunk 41 at 2018-12-07 17:07:18.149183\n",
      "Starting with chunk 42 at 2018-12-07 17:07:30.457501\n",
      "Starting with chunk 43 at 2018-12-07 17:07:39.787462\n",
      "Starting with chunk 44 at 2018-12-07 17:07:51.706778\n",
      "Starting with chunk 45 at 2018-12-07 17:08:09.659731\n",
      "Starting with chunk 46 at 2018-12-07 17:08:20.798998\n",
      "Starting with chunk 47 at 2018-12-07 17:08:34.587582\n",
      "Starting with chunk 48 at 2018-12-07 17:08:48.610102\n",
      "Starting with chunk 49 at 2018-12-07 17:08:57.562721\n",
      "Starting with chunk 50 at 2018-12-07 17:08:57.889939\n",
      "CPU times: user 8min 9s, sys: 18.8 s, total: 8min 28s\n",
      "Wall time: 8min 52s\n"
     ]
    }
   ],
   "source": [
    "%%time\n",
    "from datetime import datetime\n",
    "reader = pd.read_csv('bookings.csv.bz2', compression='bz2', sep='^', chunksize=200000)\n",
    "\n",
    "partial_results = []\n",
    "for nchunk, chunk in enumerate(reader):\n",
    "    print('Starting with chunk %.2d at %s' % (nchunk, datetime.now()))\n",
    "    bookings_2013 = chunk[chunk['year'] == 2013][['arr_port', 'pax']].dropna()\n",
    "    totals = bookings_2013.groupby('arr_port')['pax'].sum()\n",
    "    partial_results.append(totals)\n",
    "    \n",
    "all_results = pd.concat(partial_results)\n",
    "all_results.index = all_results.index.str.strip()\n",
    "\n",
    "totals = all_results.groupby('arr_port').sum()\n",
    "totals.sort_values(ascending=False).head(10)"
   ]
  },
  {
   "cell_type": "code",
   "execution_count": 31,
   "metadata": {},
   "outputs": [],
   "source": [
    "#!pip install neobase"
   ]
  },
  {
   "cell_type": "code",
   "execution_count": 32,
   "metadata": {},
   "outputs": [],
   "source": [
    "from neobase import NeoBase"
   ]
  },
  {
   "cell_type": "markdown",
   "metadata": {},
   "source": [
    "### Airport Names\n",
    "\n",
    "Using [neobase](https://github.com/alexprengere/neobase), the successor to GeoBases. It's a referential data library that particularly focuses on airports."
   ]
  },
  {
   "cell_type": "code",
   "execution_count": 33,
   "metadata": {},
   "outputs": [],
   "source": [
    "nb = NeoBase()"
   ]
  },
  {
   "cell_type": "code",
   "execution_count": 34,
   "metadata": {},
   "outputs": [
    {
     "data": {
      "text/html": [
       "<div>\n",
       "<style scoped>\n",
       "    .dataframe tbody tr th:only-of-type {\n",
       "        vertical-align: middle;\n",
       "    }\n",
       "\n",
       "    .dataframe tbody tr th {\n",
       "        vertical-align: top;\n",
       "    }\n",
       "\n",
       "    .dataframe thead th {\n",
       "        text-align: right;\n",
       "    }\n",
       "</style>\n",
       "<table border=\"1\" class=\"dataframe\">\n",
       "  <thead>\n",
       "    <tr style=\"text-align: right;\">\n",
       "      <th></th>\n",
       "      <th>pax</th>\n",
       "    </tr>\n",
       "    <tr>\n",
       "      <th>arr_port</th>\n",
       "      <th></th>\n",
       "    </tr>\n",
       "  </thead>\n",
       "  <tbody>\n",
       "    <tr>\n",
       "      <th>LHR</th>\n",
       "      <td>88809.0</td>\n",
       "    </tr>\n",
       "    <tr>\n",
       "      <th>MCO</th>\n",
       "      <td>70930.0</td>\n",
       "    </tr>\n",
       "    <tr>\n",
       "      <th>LAX</th>\n",
       "      <td>70530.0</td>\n",
       "    </tr>\n",
       "    <tr>\n",
       "      <th>LAS</th>\n",
       "      <td>69630.0</td>\n",
       "    </tr>\n",
       "    <tr>\n",
       "      <th>JFK</th>\n",
       "      <td>66270.0</td>\n",
       "    </tr>\n",
       "    <tr>\n",
       "      <th>CDG</th>\n",
       "      <td>64490.0</td>\n",
       "    </tr>\n",
       "    <tr>\n",
       "      <th>BKK</th>\n",
       "      <td>59460.0</td>\n",
       "    </tr>\n",
       "    <tr>\n",
       "      <th>MIA</th>\n",
       "      <td>58150.0</td>\n",
       "    </tr>\n",
       "    <tr>\n",
       "      <th>SFO</th>\n",
       "      <td>58000.0</td>\n",
       "    </tr>\n",
       "    <tr>\n",
       "      <th>DXB</th>\n",
       "      <td>55590.0</td>\n",
       "    </tr>\n",
       "  </tbody>\n",
       "</table>\n",
       "</div>"
      ],
      "text/plain": [
       "              pax\n",
       "arr_port         \n",
       "LHR       88809.0\n",
       "MCO       70930.0\n",
       "LAX       70530.0\n",
       "LAS       69630.0\n",
       "JFK       66270.0\n",
       "CDG       64490.0\n",
       "BKK       59460.0\n",
       "MIA       58150.0\n",
       "SFO       58000.0\n",
       "DXB       55590.0"
      ]
     },
     "execution_count": 34,
     "metadata": {},
     "output_type": "execute_result"
    }
   ],
   "source": [
    "max_ten"
   ]
  },
  {
   "cell_type": "code",
   "execution_count": 35,
   "metadata": {},
   "outputs": [],
   "source": [
    "mt = max_ten.reset_index()"
   ]
  },
  {
   "cell_type": "code",
   "execution_count": 36,
   "metadata": {},
   "outputs": [],
   "source": [
    "mt['arr_port_city'] = [nb.get(code.strip(), 'city_name_list')[0] for code in mt['arr_port'].unique()]"
   ]
  },
  {
   "cell_type": "code",
   "execution_count": 37,
   "metadata": {},
   "outputs": [
    {
     "data": {
      "text/plain": [
       "0           London\n",
       "1          Orlando\n",
       "2      Los Angeles\n",
       "3        Las Vegas\n",
       "4    New York City\n",
       "5            Paris\n",
       "6          Bangkok\n",
       "7            Miami\n",
       "8    San Francisco\n",
       "9            Dubai\n",
       "Name: arr_port, dtype: object"
      ]
     },
     "execution_count": 37,
     "metadata": {},
     "output_type": "execute_result"
    }
   ],
   "source": [
    "mt['arr_port'].apply(lambda x: nb.get(x.strip(), 'city_name_list')[0])"
   ]
  },
  {
   "cell_type": "code",
   "execution_count": 39,
   "metadata": {},
   "outputs": [
    {
     "data": {
      "text/plain": [
       "['London Heathrow Airport',\n",
       " 'Orlando International Airport',\n",
       " 'Los Angeles International Airport',\n",
       " 'McCarran International Airport',\n",
       " 'John F. Kennedy International Airport',\n",
       " 'Paris Charles de Gaulle Airport',\n",
       " 'Suvarnabhumi Airport',\n",
       " 'Miami International Airport',\n",
       " 'San Francisco International Airport',\n",
       " 'Dubai International Airport']"
      ]
     },
     "execution_count": 39,
     "metadata": {},
     "output_type": "execute_result"
    }
   ],
   "source": [
    "[ nb.get(code.strip())['name'] for code in max_ten.index ]"
   ]
  },
  {
   "cell_type": "code",
   "execution_count": 43,
   "metadata": {},
   "outputs": [
    {
     "data": {
      "text/plain": [
       "arr_port\n",
       "LHR    88809.0\n",
       "MCO    70930.0\n",
       "LAX    70530.0\n",
       "LAS    69630.0\n",
       "JFK    66270.0\n",
       "CDG    64490.0\n",
       "BKK    59460.0\n",
       "MIA    58150.0\n",
       "SFO    58000.0\n",
       "DXB    55590.0\n",
       "Name: pax, dtype: float64"
      ]
     },
     "execution_count": 43,
     "metadata": {},
     "output_type": "execute_result"
    }
   ],
   "source": [
    "totals.sort_values(ascending=False).head(10)"
   ]
  },
  {
   "cell_type": "code",
   "execution_count": null,
   "metadata": {},
   "outputs": [],
   "source": []
  }
 ],
 "metadata": {
  "kernelspec": {
   "display_name": "Python 3",
   "language": "python",
   "name": "python3"
  },
  "language_info": {
   "codemirror_mode": {
    "name": "ipython",
    "version": 3
   },
   "file_extension": ".py",
   "mimetype": "text/x-python",
   "name": "python",
   "nbconvert_exporter": "python",
   "pygments_lexer": "ipython3",
   "version": "3.6.4"
  }
 },
 "nbformat": 4,
 "nbformat_minor": 1
}
