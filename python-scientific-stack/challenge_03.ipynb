{
 "cells": [
  {
   "cell_type": "markdown",
   "metadata": {},
   "source": [
    "## Plot the monthly number of searches for flights arriving at Málaga, Madrid or Barcelona\n",
    "\n",
    "For the arriving airport, you can use the Destination column in the searches file. \n",
    "\n",
    "Plot a curve for Málaga, another one for Madrid, and another one for Barcelona, in the same figure.\n"
   ]
  },
  {
   "cell_type": "markdown",
   "metadata": {},
   "source": [
    "Suggestion: follow the below plan of action:\n",
    "\n",
    "* Get familiar with the data\n",
    "* Select columns of interest\n",
    "* Decide what to do with NaNs\n",
    "\n",
    "* Make processing plan\n",
    "* Develop code that works with a sample\n",
    "\n",
    "* Adjust the code to work with Big data\n",
    "* Test big data approach on a sample\n",
    "\n",
    "* Run program with big data\n"
   ]
  },
  {
   "cell_type": "code",
   "execution_count": 1,
   "metadata": {},
   "outputs": [],
   "source": [
    "import pandas as pd\n",
    "import matplotlib.pyplot as plt\n",
    "\n",
    "%matplotlib inline"
   ]
  },
  {
   "cell_type": "code",
   "execution_count": 2,
   "metadata": {},
   "outputs": [],
   "source": [
    "pd.set_option('display.max_columns', None)"
   ]
  },
  {
   "cell_type": "code",
   "execution_count": 3,
   "metadata": {
    "scrolled": true
   },
   "outputs": [],
   "source": [
    "sample = pd.read_csv('searches.csv.bz2', compression='bz2', header=0, nrows=5, sep='^')"
   ]
  },
  {
   "cell_type": "code",
   "execution_count": 4,
   "metadata": {},
   "outputs": [
    {
     "data": {
      "text/plain": [
       "0    AUH\n",
       "1    MIL\n",
       "2    SFO\n",
       "3    ARN\n",
       "4    MAD\n",
       "Name: Destination, dtype: object"
      ]
     },
     "execution_count": 4,
     "metadata": {},
     "output_type": "execute_result"
    }
   ],
   "source": [
    "sample['Destination']"
   ]
  },
  {
   "cell_type": "code",
   "execution_count": 5,
   "metadata": {},
   "outputs": [
    {
     "data": {
      "text/plain": [
       "Index(['Date', 'Time', 'TxnCode', 'OfficeID', 'Country', 'Origin',\n",
       "       'Destination', 'RoundTrip', 'NbSegments', 'Seg1Departure',\n",
       "       'Seg1Arrival', 'Seg1Date', 'Seg1Carrier', 'Seg1BookingCode',\n",
       "       'Seg2Departure', 'Seg2Arrival', 'Seg2Date', 'Seg2Carrier',\n",
       "       'Seg2BookingCode', 'Seg3Departure', 'Seg3Arrival', 'Seg3Date',\n",
       "       'Seg3Carrier', 'Seg3BookingCode', 'Seg4Departure', 'Seg4Arrival',\n",
       "       'Seg4Date', 'Seg4Carrier', 'Seg4BookingCode', 'Seg5Departure',\n",
       "       'Seg5Arrival', 'Seg5Date', 'Seg5Carrier', 'Seg5BookingCode',\n",
       "       'Seg6Departure', 'Seg6Arrival', 'Seg6Date', 'Seg6Carrier',\n",
       "       'Seg6BookingCode', 'From', 'IsPublishedForNeg', 'IsFromInternet',\n",
       "       'IsFromVista', 'TerminalID', 'InternetOffice'],\n",
       "      dtype='object')"
      ]
     },
     "execution_count": 5,
     "metadata": {},
     "output_type": "execute_result"
    }
   ],
   "source": [
    "sample.columns"
   ]
  },
  {
   "cell_type": "code",
   "execution_count": 6,
   "metadata": {},
   "outputs": [],
   "source": [
    "def columns_csv(file, compression, sep):\n",
    "    \"\"\"\n",
    "    To know which number fits with wich col name\n",
    "    \n",
    "    :param str file: Input file.\n",
    "    :param str compression: Type of compression.\n",
    "    :param str sep: Type o separator\n",
    "    \n",
    "    return: a dataframe with name of column and number\n",
    "    \"\"\"\n",
    "    return pd.Series(pd.read_csv(file, compression=compression, header=None, nrows=1, sep=sep).T[0]).str.strip()"
   ]
  },
  {
   "cell_type": "code",
   "execution_count": 7,
   "metadata": {},
   "outputs": [],
   "source": [
    "columns = columns_csv('searches.csv.bz2', compression='bz2', sep='^')"
   ]
  },
  {
   "cell_type": "code",
   "execution_count": 8,
   "metadata": {},
   "outputs": [],
   "source": [
    "def cols_to_use(l_use, columns_csv):\n",
    "    \"\"\"\n",
    "    List to columns to keep\n",
    "    \n",
    "    :param list l_use: List of str with the names of columns want to keep\n",
    "    :param pd.Series columns_csv: Serie with the columns of the csv\n",
    "    \n",
    "    return: List with the number of column for selected column name\n",
    "    \"\"\"\n",
    "    l = []\n",
    "    for c in l_use:\n",
    "        l.append(columns_csv[columns_csv == c].index[0])\n",
    "    return l"
   ]
  },
  {
   "cell_type": "code",
   "execution_count": 9,
   "metadata": {},
   "outputs": [],
   "source": [
    "list_cols_to_use = cols_to_use(l_use=['Date', 'Time', 'Destination'], columns_csv=columns)"
   ]
  },
  {
   "cell_type": "code",
   "execution_count": 10,
   "metadata": {},
   "outputs": [],
   "source": [
    "df = pd.read_csv('searches.csv.bz2', compression='bz2', header=0, usecols=list_cols_to_use, sep='^', dtype={'Destination': 'category'})"
   ]
  },
  {
   "cell_type": "code",
   "execution_count": 11,
   "metadata": {},
   "outputs": [
    {
     "data": {
      "text/html": [
       "<div>\n",
       "<style scoped>\n",
       "    .dataframe tbody tr th:only-of-type {\n",
       "        vertical-align: middle;\n",
       "    }\n",
       "\n",
       "    .dataframe tbody tr th {\n",
       "        vertical-align: top;\n",
       "    }\n",
       "\n",
       "    .dataframe thead th {\n",
       "        text-align: right;\n",
       "    }\n",
       "</style>\n",
       "<table border=\"1\" class=\"dataframe\">\n",
       "  <thead>\n",
       "    <tr style=\"text-align: right;\">\n",
       "      <th></th>\n",
       "      <th>Date</th>\n",
       "      <th>Time</th>\n",
       "      <th>Destination</th>\n",
       "    </tr>\n",
       "  </thead>\n",
       "  <tbody>\n",
       "    <tr>\n",
       "      <th>count</th>\n",
       "      <td>20390198</td>\n",
       "      <td>20390165</td>\n",
       "      <td>20390165</td>\n",
       "    </tr>\n",
       "    <tr>\n",
       "      <th>unique</th>\n",
       "      <td>360</td>\n",
       "      <td>84267</td>\n",
       "      <td>3068</td>\n",
       "    </tr>\n",
       "    <tr>\n",
       "      <th>top</th>\n",
       "      <td>2013-01-01</td>\n",
       "      <td>18:20:23</td>\n",
       "      <td>BKK</td>\n",
       "    </tr>\n",
       "    <tr>\n",
       "      <th>freq</th>\n",
       "      <td>57297</td>\n",
       "      <td>909</td>\n",
       "      <td>477093</td>\n",
       "    </tr>\n",
       "  </tbody>\n",
       "</table>\n",
       "</div>"
      ],
      "text/plain": [
       "              Date      Time Destination\n",
       "count     20390198  20390165    20390165\n",
       "unique         360     84267        3068\n",
       "top     2013-01-01  18:20:23         BKK\n",
       "freq         57297       909      477093"
      ]
     },
     "execution_count": 11,
     "metadata": {},
     "output_type": "execute_result"
    }
   ],
   "source": [
    "df.describe(include='all')"
   ]
  },
  {
   "cell_type": "code",
   "execution_count": 12,
   "metadata": {},
   "outputs": [
    {
     "name": "stdout",
     "output_type": "stream",
     "text": [
      "<class 'pandas.core.frame.DataFrame'>\n",
      "RangeIndex: 20390198 entries, 0 to 20390197\n",
      "Data columns (total 3 columns):\n",
      "Date           object\n",
      "Time           object\n",
      "Destination    category\n",
      "dtypes: category(1), object(2)\n",
      "memory usage: 350.1+ MB\n"
     ]
    }
   ],
   "source": [
    "df.info()"
   ]
  },
  {
   "cell_type": "code",
   "execution_count": 13,
   "metadata": {},
   "outputs": [
    {
     "data": {
      "text/plain": [
       "Date            0\n",
       "Time           33\n",
       "Destination    33\n",
       "dtype: int64"
      ]
     },
     "execution_count": 13,
     "metadata": {},
     "output_type": "execute_result"
    }
   ],
   "source": [
    "df.isnull().sum()"
   ]
  },
  {
   "cell_type": "code",
   "execution_count": 14,
   "metadata": {},
   "outputs": [
    {
     "data": {
      "text/plain": [
       "Date             object\n",
       "Time             object\n",
       "Destination    category\n",
       "dtype: object"
      ]
     },
     "execution_count": 14,
     "metadata": {},
     "output_type": "execute_result"
    }
   ],
   "source": [
    "df.dtypes"
   ]
  },
  {
   "cell_type": "markdown",
   "metadata": {},
   "source": [
    "## Select the columns of interest"
   ]
  },
  {
   "cell_type": "code",
   "execution_count": 15,
   "metadata": {
    "scrolled": true
   },
   "outputs": [
    {
     "data": {
      "text/plain": [
       "Date           0\n",
       "Time           0\n",
       "Destination    0\n",
       "dtype: int64"
      ]
     },
     "execution_count": 15,
     "metadata": {},
     "output_type": "execute_result"
    }
   ],
   "source": [
    "df_nonan = df.dropna()\n",
    "df_nonan.isnull().sum()"
   ]
  },
  {
   "cell_type": "markdown",
   "metadata": {},
   "source": [
    "## Make processing plan\n"
   ]
  },
  {
   "cell_type": "markdown",
   "metadata": {
    "collapsed": true
   },
   "source": [
    "* Filter Mad, Bcn, Agp\n",
    "* Create YYYY-MM column\n",
    "* Group by [destination, YYYY-MM]\n",
    "* Sum\n",
    "* Plot the results\n",
    "\n"
   ]
  },
  {
   "cell_type": "markdown",
   "metadata": {},
   "source": [
    "### filter out the the searches for MAD, BCN, AGP\n",
    "\n",
    "Take only the rows having MAD, BCN or AGP as destination"
   ]
  },
  {
   "cell_type": "code",
   "execution_count": 16,
   "metadata": {},
   "outputs": [],
   "source": [
    "df_filtered = df_nonan[df_nonan['Destination'].isin(['MAD', 'BCN', 'AGP'])]"
   ]
  },
  {
   "cell_type": "markdown",
   "metadata": {},
   "source": [
    "We need to get the month from the Date column\n",
    "\n",
    "We cannot use a datetime function on 'date' column as it is string"
   ]
  },
  {
   "cell_type": "markdown",
   "metadata": {
    "collapsed": true
   },
   "source": [
    "Options:\n",
    "\n",
    "* Using string and obtaining yyyy-mm directly from it\n",
    "\n",
    "* Transforming string to date:      \n",
    "\n",
    "  * parse_dates=['Date'] - in read_csv function\n",
    "\n",
    "  * pd.to_datetime  - function"
   ]
  },
  {
   "cell_type": "markdown",
   "metadata": {},
   "source": [
    "### Option 1) use directly pd.to_datetime()"
   ]
  },
  {
   "cell_type": "code",
   "execution_count": 17,
   "metadata": {},
   "outputs": [],
   "source": [
    "df_filt = df_filtered.copy()"
   ]
  },
  {
   "cell_type": "code",
   "execution_count": 18,
   "metadata": {},
   "outputs": [
    {
     "name": "stderr",
     "output_type": "stream",
     "text": [
      "/home/dsc/anaconda3/lib/python3.6/site-packages/ipykernel_launcher.py:1: SettingWithCopyWarning: \n",
      "A value is trying to be set on a copy of a slice from a DataFrame.\n",
      "Try using .loc[row_indexer,col_indexer] = value instead\n",
      "\n",
      "See the caveats in the documentation: http://pandas.pydata.org/pandas-docs/stable/indexing.html#indexing-view-versus-copy\n",
      "  \"\"\"Entry point for launching an IPython kernel.\n"
     ]
    }
   ],
   "source": [
    "df_filtered['Date'] = pd.to_datetime(df_filtered['Date'])"
   ]
  },
  {
   "cell_type": "markdown",
   "metadata": {},
   "source": [
    "### Option 2) get PlotDate directly from the string"
   ]
  },
  {
   "cell_type": "code",
   "execution_count": 27,
   "metadata": {},
   "outputs": [],
   "source": [
    "df_filt['PlotDate'] = df_filt['Date'].str[:7]\n",
    "df_filt.head()\n",
    "df_filt['Destination'] = df_filt['Destination'].astype(object)"
   ]
  },
  {
   "cell_type": "code",
   "execution_count": 28,
   "metadata": {},
   "outputs": [
    {
     "data": {
      "text/html": [
       "<div>\n",
       "<style scoped>\n",
       "    .dataframe tbody tr th:only-of-type {\n",
       "        vertical-align: middle;\n",
       "    }\n",
       "\n",
       "    .dataframe tbody tr th {\n",
       "        vertical-align: top;\n",
       "    }\n",
       "\n",
       "    .dataframe thead th {\n",
       "        text-align: right;\n",
       "    }\n",
       "</style>\n",
       "<table border=\"1\" class=\"dataframe\">\n",
       "  <thead>\n",
       "    <tr style=\"text-align: right;\">\n",
       "      <th></th>\n",
       "      <th></th>\n",
       "      <th>Date</th>\n",
       "      <th>Time</th>\n",
       "    </tr>\n",
       "    <tr>\n",
       "      <th>Destination</th>\n",
       "      <th>PlotDate</th>\n",
       "      <th></th>\n",
       "      <th></th>\n",
       "    </tr>\n",
       "  </thead>\n",
       "  <tbody>\n",
       "    <tr>\n",
       "      <th rowspan=\"12\" valign=\"top\">AGP</th>\n",
       "      <th>2013-01</th>\n",
       "      <td>9633</td>\n",
       "      <td>9633</td>\n",
       "    </tr>\n",
       "    <tr>\n",
       "      <th>2013-02</th>\n",
       "      <td>8379</td>\n",
       "      <td>8379</td>\n",
       "    </tr>\n",
       "    <tr>\n",
       "      <th>2013-03</th>\n",
       "      <td>10659</td>\n",
       "      <td>10659</td>\n",
       "    </tr>\n",
       "    <tr>\n",
       "      <th>2013-04</th>\n",
       "      <td>8265</td>\n",
       "      <td>8265</td>\n",
       "    </tr>\n",
       "    <tr>\n",
       "      <th>2013-05</th>\n",
       "      <td>10830</td>\n",
       "      <td>10830</td>\n",
       "    </tr>\n",
       "    <tr>\n",
       "      <th>2013-06</th>\n",
       "      <td>7923</td>\n",
       "      <td>7923</td>\n",
       "    </tr>\n",
       "    <tr>\n",
       "      <th>2013-07</th>\n",
       "      <td>8892</td>\n",
       "      <td>8892</td>\n",
       "    </tr>\n",
       "    <tr>\n",
       "      <th>2013-08</th>\n",
       "      <td>7866</td>\n",
       "      <td>7866</td>\n",
       "    </tr>\n",
       "    <tr>\n",
       "      <th>2013-09</th>\n",
       "      <td>8151</td>\n",
       "      <td>8151</td>\n",
       "    </tr>\n",
       "    <tr>\n",
       "      <th>2013-10</th>\n",
       "      <td>6499</td>\n",
       "      <td>6499</td>\n",
       "    </tr>\n",
       "    <tr>\n",
       "      <th>2013-11</th>\n",
       "      <td>6384</td>\n",
       "      <td>6384</td>\n",
       "    </tr>\n",
       "    <tr>\n",
       "      <th>2013-12</th>\n",
       "      <td>3696</td>\n",
       "      <td>3696</td>\n",
       "    </tr>\n",
       "    <tr>\n",
       "      <th rowspan=\"12\" valign=\"top\">BCN</th>\n",
       "      <th>2013-01</th>\n",
       "      <td>29469</td>\n",
       "      <td>29469</td>\n",
       "    </tr>\n",
       "    <tr>\n",
       "      <th>2013-02</th>\n",
       "      <td>28329</td>\n",
       "      <td>28329</td>\n",
       "    </tr>\n",
       "    <tr>\n",
       "      <th>2013-03</th>\n",
       "      <td>30552</td>\n",
       "      <td>30552</td>\n",
       "    </tr>\n",
       "    <tr>\n",
       "      <th>2013-04</th>\n",
       "      <td>31236</td>\n",
       "      <td>31236</td>\n",
       "    </tr>\n",
       "    <tr>\n",
       "      <th>2013-05</th>\n",
       "      <td>28728</td>\n",
       "      <td>28728</td>\n",
       "    </tr>\n",
       "    <tr>\n",
       "      <th>2013-06</th>\n",
       "      <td>26505</td>\n",
       "      <td>26505</td>\n",
       "    </tr>\n",
       "    <tr>\n",
       "      <th>2013-07</th>\n",
       "      <td>29241</td>\n",
       "      <td>29241</td>\n",
       "    </tr>\n",
       "    <tr>\n",
       "      <th>2013-08</th>\n",
       "      <td>27075</td>\n",
       "      <td>27075</td>\n",
       "    </tr>\n",
       "    <tr>\n",
       "      <th>2013-09</th>\n",
       "      <td>23427</td>\n",
       "      <td>23427</td>\n",
       "    </tr>\n",
       "    <tr>\n",
       "      <th>2013-10</th>\n",
       "      <td>20276</td>\n",
       "      <td>20276</td>\n",
       "    </tr>\n",
       "    <tr>\n",
       "      <th>2013-11</th>\n",
       "      <td>19824</td>\n",
       "      <td>19824</td>\n",
       "    </tr>\n",
       "    <tr>\n",
       "      <th>2013-12</th>\n",
       "      <td>15400</td>\n",
       "      <td>15400</td>\n",
       "    </tr>\n",
       "    <tr>\n",
       "      <th rowspan=\"12\" valign=\"top\">MAD</th>\n",
       "      <th>2013-01</th>\n",
       "      <td>24258</td>\n",
       "      <td>24258</td>\n",
       "    </tr>\n",
       "    <tr>\n",
       "      <th>2013-02</th>\n",
       "      <td>22800</td>\n",
       "      <td>22800</td>\n",
       "    </tr>\n",
       "    <tr>\n",
       "      <th>2013-03</th>\n",
       "      <td>24681</td>\n",
       "      <td>24681</td>\n",
       "    </tr>\n",
       "    <tr>\n",
       "      <th>2013-04</th>\n",
       "      <td>25251</td>\n",
       "      <td>25251</td>\n",
       "    </tr>\n",
       "    <tr>\n",
       "      <th>2013-05</th>\n",
       "      <td>26334</td>\n",
       "      <td>26334</td>\n",
       "    </tr>\n",
       "    <tr>\n",
       "      <th>2013-06</th>\n",
       "      <td>22800</td>\n",
       "      <td>22800</td>\n",
       "    </tr>\n",
       "    <tr>\n",
       "      <th>2013-07</th>\n",
       "      <td>22971</td>\n",
       "      <td>22971</td>\n",
       "    </tr>\n",
       "    <tr>\n",
       "      <th>2013-08</th>\n",
       "      <td>21831</td>\n",
       "      <td>21831</td>\n",
       "    </tr>\n",
       "    <tr>\n",
       "      <th>2013-09</th>\n",
       "      <td>21147</td>\n",
       "      <td>21147</td>\n",
       "    </tr>\n",
       "    <tr>\n",
       "      <th>2013-10</th>\n",
       "      <td>22294</td>\n",
       "      <td>22294</td>\n",
       "    </tr>\n",
       "    <tr>\n",
       "      <th>2013-11</th>\n",
       "      <td>20272</td>\n",
       "      <td>20272</td>\n",
       "    </tr>\n",
       "    <tr>\n",
       "      <th>2013-12</th>\n",
       "      <td>14504</td>\n",
       "      <td>14504</td>\n",
       "    </tr>\n",
       "  </tbody>\n",
       "</table>\n",
       "</div>"
      ],
      "text/plain": [
       "                       Date   Time\n",
       "Destination PlotDate              \n",
       "AGP         2013-01    9633   9633\n",
       "            2013-02    8379   8379\n",
       "            2013-03   10659  10659\n",
       "            2013-04    8265   8265\n",
       "            2013-05   10830  10830\n",
       "            2013-06    7923   7923\n",
       "            2013-07    8892   8892\n",
       "            2013-08    7866   7866\n",
       "            2013-09    8151   8151\n",
       "            2013-10    6499   6499\n",
       "            2013-11    6384   6384\n",
       "            2013-12    3696   3696\n",
       "BCN         2013-01   29469  29469\n",
       "            2013-02   28329  28329\n",
       "            2013-03   30552  30552\n",
       "            2013-04   31236  31236\n",
       "            2013-05   28728  28728\n",
       "            2013-06   26505  26505\n",
       "            2013-07   29241  29241\n",
       "            2013-08   27075  27075\n",
       "            2013-09   23427  23427\n",
       "            2013-10   20276  20276\n",
       "            2013-11   19824  19824\n",
       "            2013-12   15400  15400\n",
       "MAD         2013-01   24258  24258\n",
       "            2013-02   22800  22800\n",
       "            2013-03   24681  24681\n",
       "            2013-04   25251  25251\n",
       "            2013-05   26334  26334\n",
       "            2013-06   22800  22800\n",
       "            2013-07   22971  22971\n",
       "            2013-08   21831  21831\n",
       "            2013-09   21147  21147\n",
       "            2013-10   22294  22294\n",
       "            2013-11   20272  20272\n",
       "            2013-12   14504  14504"
      ]
     },
     "execution_count": 28,
     "metadata": {},
     "output_type": "execute_result"
    }
   ],
   "source": [
    "nsearches = df_filt.groupby(['Destination', 'PlotDate']).count()\n",
    "nsearches"
   ]
  },
  {
   "cell_type": "code",
   "execution_count": 29,
   "metadata": {},
   "outputs": [
    {
     "data": {
      "text/html": [
       "<div>\n",
       "<style scoped>\n",
       "    .dataframe tbody tr th:only-of-type {\n",
       "        vertical-align: middle;\n",
       "    }\n",
       "\n",
       "    .dataframe tbody tr th {\n",
       "        vertical-align: top;\n",
       "    }\n",
       "\n",
       "    .dataframe thead th {\n",
       "        text-align: right;\n",
       "    }\n",
       "</style>\n",
       "<table border=\"1\" class=\"dataframe\">\n",
       "  <thead>\n",
       "    <tr style=\"text-align: right;\">\n",
       "      <th></th>\n",
       "      <th>Destination</th>\n",
       "      <th>PlotDate</th>\n",
       "      <th>Date</th>\n",
       "      <th>Time</th>\n",
       "    </tr>\n",
       "  </thead>\n",
       "  <tbody>\n",
       "    <tr>\n",
       "      <th>0</th>\n",
       "      <td>AGP</td>\n",
       "      <td>2013-01</td>\n",
       "      <td>9633</td>\n",
       "      <td>9633</td>\n",
       "    </tr>\n",
       "    <tr>\n",
       "      <th>1</th>\n",
       "      <td>AGP</td>\n",
       "      <td>2013-02</td>\n",
       "      <td>8379</td>\n",
       "      <td>8379</td>\n",
       "    </tr>\n",
       "    <tr>\n",
       "      <th>2</th>\n",
       "      <td>AGP</td>\n",
       "      <td>2013-03</td>\n",
       "      <td>10659</td>\n",
       "      <td>10659</td>\n",
       "    </tr>\n",
       "    <tr>\n",
       "      <th>3</th>\n",
       "      <td>AGP</td>\n",
       "      <td>2013-04</td>\n",
       "      <td>8265</td>\n",
       "      <td>8265</td>\n",
       "    </tr>\n",
       "    <tr>\n",
       "      <th>4</th>\n",
       "      <td>AGP</td>\n",
       "      <td>2013-05</td>\n",
       "      <td>10830</td>\n",
       "      <td>10830</td>\n",
       "    </tr>\n",
       "    <tr>\n",
       "      <th>5</th>\n",
       "      <td>AGP</td>\n",
       "      <td>2013-06</td>\n",
       "      <td>7923</td>\n",
       "      <td>7923</td>\n",
       "    </tr>\n",
       "    <tr>\n",
       "      <th>6</th>\n",
       "      <td>AGP</td>\n",
       "      <td>2013-07</td>\n",
       "      <td>8892</td>\n",
       "      <td>8892</td>\n",
       "    </tr>\n",
       "    <tr>\n",
       "      <th>7</th>\n",
       "      <td>AGP</td>\n",
       "      <td>2013-08</td>\n",
       "      <td>7866</td>\n",
       "      <td>7866</td>\n",
       "    </tr>\n",
       "    <tr>\n",
       "      <th>8</th>\n",
       "      <td>AGP</td>\n",
       "      <td>2013-09</td>\n",
       "      <td>8151</td>\n",
       "      <td>8151</td>\n",
       "    </tr>\n",
       "    <tr>\n",
       "      <th>9</th>\n",
       "      <td>AGP</td>\n",
       "      <td>2013-10</td>\n",
       "      <td>6499</td>\n",
       "      <td>6499</td>\n",
       "    </tr>\n",
       "    <tr>\n",
       "      <th>10</th>\n",
       "      <td>AGP</td>\n",
       "      <td>2013-11</td>\n",
       "      <td>6384</td>\n",
       "      <td>6384</td>\n",
       "    </tr>\n",
       "    <tr>\n",
       "      <th>11</th>\n",
       "      <td>AGP</td>\n",
       "      <td>2013-12</td>\n",
       "      <td>3696</td>\n",
       "      <td>3696</td>\n",
       "    </tr>\n",
       "    <tr>\n",
       "      <th>12</th>\n",
       "      <td>BCN</td>\n",
       "      <td>2013-01</td>\n",
       "      <td>29469</td>\n",
       "      <td>29469</td>\n",
       "    </tr>\n",
       "    <tr>\n",
       "      <th>13</th>\n",
       "      <td>BCN</td>\n",
       "      <td>2013-02</td>\n",
       "      <td>28329</td>\n",
       "      <td>28329</td>\n",
       "    </tr>\n",
       "    <tr>\n",
       "      <th>14</th>\n",
       "      <td>BCN</td>\n",
       "      <td>2013-03</td>\n",
       "      <td>30552</td>\n",
       "      <td>30552</td>\n",
       "    </tr>\n",
       "    <tr>\n",
       "      <th>15</th>\n",
       "      <td>BCN</td>\n",
       "      <td>2013-04</td>\n",
       "      <td>31236</td>\n",
       "      <td>31236</td>\n",
       "    </tr>\n",
       "    <tr>\n",
       "      <th>16</th>\n",
       "      <td>BCN</td>\n",
       "      <td>2013-05</td>\n",
       "      <td>28728</td>\n",
       "      <td>28728</td>\n",
       "    </tr>\n",
       "    <tr>\n",
       "      <th>17</th>\n",
       "      <td>BCN</td>\n",
       "      <td>2013-06</td>\n",
       "      <td>26505</td>\n",
       "      <td>26505</td>\n",
       "    </tr>\n",
       "    <tr>\n",
       "      <th>18</th>\n",
       "      <td>BCN</td>\n",
       "      <td>2013-07</td>\n",
       "      <td>29241</td>\n",
       "      <td>29241</td>\n",
       "    </tr>\n",
       "    <tr>\n",
       "      <th>19</th>\n",
       "      <td>BCN</td>\n",
       "      <td>2013-08</td>\n",
       "      <td>27075</td>\n",
       "      <td>27075</td>\n",
       "    </tr>\n",
       "    <tr>\n",
       "      <th>20</th>\n",
       "      <td>BCN</td>\n",
       "      <td>2013-09</td>\n",
       "      <td>23427</td>\n",
       "      <td>23427</td>\n",
       "    </tr>\n",
       "    <tr>\n",
       "      <th>21</th>\n",
       "      <td>BCN</td>\n",
       "      <td>2013-10</td>\n",
       "      <td>20276</td>\n",
       "      <td>20276</td>\n",
       "    </tr>\n",
       "    <tr>\n",
       "      <th>22</th>\n",
       "      <td>BCN</td>\n",
       "      <td>2013-11</td>\n",
       "      <td>19824</td>\n",
       "      <td>19824</td>\n",
       "    </tr>\n",
       "    <tr>\n",
       "      <th>23</th>\n",
       "      <td>BCN</td>\n",
       "      <td>2013-12</td>\n",
       "      <td>15400</td>\n",
       "      <td>15400</td>\n",
       "    </tr>\n",
       "    <tr>\n",
       "      <th>24</th>\n",
       "      <td>MAD</td>\n",
       "      <td>2013-01</td>\n",
       "      <td>24258</td>\n",
       "      <td>24258</td>\n",
       "    </tr>\n",
       "    <tr>\n",
       "      <th>25</th>\n",
       "      <td>MAD</td>\n",
       "      <td>2013-02</td>\n",
       "      <td>22800</td>\n",
       "      <td>22800</td>\n",
       "    </tr>\n",
       "    <tr>\n",
       "      <th>26</th>\n",
       "      <td>MAD</td>\n",
       "      <td>2013-03</td>\n",
       "      <td>24681</td>\n",
       "      <td>24681</td>\n",
       "    </tr>\n",
       "    <tr>\n",
       "      <th>27</th>\n",
       "      <td>MAD</td>\n",
       "      <td>2013-04</td>\n",
       "      <td>25251</td>\n",
       "      <td>25251</td>\n",
       "    </tr>\n",
       "    <tr>\n",
       "      <th>28</th>\n",
       "      <td>MAD</td>\n",
       "      <td>2013-05</td>\n",
       "      <td>26334</td>\n",
       "      <td>26334</td>\n",
       "    </tr>\n",
       "    <tr>\n",
       "      <th>29</th>\n",
       "      <td>MAD</td>\n",
       "      <td>2013-06</td>\n",
       "      <td>22800</td>\n",
       "      <td>22800</td>\n",
       "    </tr>\n",
       "    <tr>\n",
       "      <th>30</th>\n",
       "      <td>MAD</td>\n",
       "      <td>2013-07</td>\n",
       "      <td>22971</td>\n",
       "      <td>22971</td>\n",
       "    </tr>\n",
       "    <tr>\n",
       "      <th>31</th>\n",
       "      <td>MAD</td>\n",
       "      <td>2013-08</td>\n",
       "      <td>21831</td>\n",
       "      <td>21831</td>\n",
       "    </tr>\n",
       "    <tr>\n",
       "      <th>32</th>\n",
       "      <td>MAD</td>\n",
       "      <td>2013-09</td>\n",
       "      <td>21147</td>\n",
       "      <td>21147</td>\n",
       "    </tr>\n",
       "    <tr>\n",
       "      <th>33</th>\n",
       "      <td>MAD</td>\n",
       "      <td>2013-10</td>\n",
       "      <td>22294</td>\n",
       "      <td>22294</td>\n",
       "    </tr>\n",
       "    <tr>\n",
       "      <th>34</th>\n",
       "      <td>MAD</td>\n",
       "      <td>2013-11</td>\n",
       "      <td>20272</td>\n",
       "      <td>20272</td>\n",
       "    </tr>\n",
       "    <tr>\n",
       "      <th>35</th>\n",
       "      <td>MAD</td>\n",
       "      <td>2013-12</td>\n",
       "      <td>14504</td>\n",
       "      <td>14504</td>\n",
       "    </tr>\n",
       "  </tbody>\n",
       "</table>\n",
       "</div>"
      ],
      "text/plain": [
       "   Destination PlotDate   Date   Time\n",
       "0          AGP  2013-01   9633   9633\n",
       "1          AGP  2013-02   8379   8379\n",
       "2          AGP  2013-03  10659  10659\n",
       "3          AGP  2013-04   8265   8265\n",
       "4          AGP  2013-05  10830  10830\n",
       "5          AGP  2013-06   7923   7923\n",
       "6          AGP  2013-07   8892   8892\n",
       "7          AGP  2013-08   7866   7866\n",
       "8          AGP  2013-09   8151   8151\n",
       "9          AGP  2013-10   6499   6499\n",
       "10         AGP  2013-11   6384   6384\n",
       "11         AGP  2013-12   3696   3696\n",
       "12         BCN  2013-01  29469  29469\n",
       "13         BCN  2013-02  28329  28329\n",
       "14         BCN  2013-03  30552  30552\n",
       "15         BCN  2013-04  31236  31236\n",
       "16         BCN  2013-05  28728  28728\n",
       "17         BCN  2013-06  26505  26505\n",
       "18         BCN  2013-07  29241  29241\n",
       "19         BCN  2013-08  27075  27075\n",
       "20         BCN  2013-09  23427  23427\n",
       "21         BCN  2013-10  20276  20276\n",
       "22         BCN  2013-11  19824  19824\n",
       "23         BCN  2013-12  15400  15400\n",
       "24         MAD  2013-01  24258  24258\n",
       "25         MAD  2013-02  22800  22800\n",
       "26         MAD  2013-03  24681  24681\n",
       "27         MAD  2013-04  25251  25251\n",
       "28         MAD  2013-05  26334  26334\n",
       "29         MAD  2013-06  22800  22800\n",
       "30         MAD  2013-07  22971  22971\n",
       "31         MAD  2013-08  21831  21831\n",
       "32         MAD  2013-09  21147  21147\n",
       "33         MAD  2013-10  22294  22294\n",
       "34         MAD  2013-11  20272  20272\n",
       "35         MAD  2013-12  14504  14504"
      ]
     },
     "execution_count": 29,
     "metadata": {},
     "output_type": "execute_result"
    }
   ],
   "source": [
    "reset = nsearches.reset_index()\n",
    "reset"
   ]
  },
  {
   "cell_type": "code",
   "execution_count": 30,
   "metadata": {},
   "outputs": [
    {
     "data": {
      "text/html": [
       "<div>\n",
       "<style scoped>\n",
       "    .dataframe tbody tr th:only-of-type {\n",
       "        vertical-align: middle;\n",
       "    }\n",
       "\n",
       "    .dataframe tbody tr th {\n",
       "        vertical-align: top;\n",
       "    }\n",
       "\n",
       "    .dataframe thead th {\n",
       "        text-align: right;\n",
       "    }\n",
       "</style>\n",
       "<table border=\"1\" class=\"dataframe\">\n",
       "  <thead>\n",
       "    <tr style=\"text-align: right;\">\n",
       "      <th>Destination</th>\n",
       "      <th>AGP</th>\n",
       "      <th>BCN</th>\n",
       "      <th>MAD</th>\n",
       "    </tr>\n",
       "    <tr>\n",
       "      <th>PlotDate</th>\n",
       "      <th></th>\n",
       "      <th></th>\n",
       "      <th></th>\n",
       "    </tr>\n",
       "  </thead>\n",
       "  <tbody>\n",
       "    <tr>\n",
       "      <th>2013-01</th>\n",
       "      <td>9633</td>\n",
       "      <td>29469</td>\n",
       "      <td>24258</td>\n",
       "    </tr>\n",
       "    <tr>\n",
       "      <th>2013-02</th>\n",
       "      <td>8379</td>\n",
       "      <td>28329</td>\n",
       "      <td>22800</td>\n",
       "    </tr>\n",
       "    <tr>\n",
       "      <th>2013-03</th>\n",
       "      <td>10659</td>\n",
       "      <td>30552</td>\n",
       "      <td>24681</td>\n",
       "    </tr>\n",
       "    <tr>\n",
       "      <th>2013-04</th>\n",
       "      <td>8265</td>\n",
       "      <td>31236</td>\n",
       "      <td>25251</td>\n",
       "    </tr>\n",
       "    <tr>\n",
       "      <th>2013-05</th>\n",
       "      <td>10830</td>\n",
       "      <td>28728</td>\n",
       "      <td>26334</td>\n",
       "    </tr>\n",
       "    <tr>\n",
       "      <th>2013-06</th>\n",
       "      <td>7923</td>\n",
       "      <td>26505</td>\n",
       "      <td>22800</td>\n",
       "    </tr>\n",
       "    <tr>\n",
       "      <th>2013-07</th>\n",
       "      <td>8892</td>\n",
       "      <td>29241</td>\n",
       "      <td>22971</td>\n",
       "    </tr>\n",
       "    <tr>\n",
       "      <th>2013-08</th>\n",
       "      <td>7866</td>\n",
       "      <td>27075</td>\n",
       "      <td>21831</td>\n",
       "    </tr>\n",
       "    <tr>\n",
       "      <th>2013-09</th>\n",
       "      <td>8151</td>\n",
       "      <td>23427</td>\n",
       "      <td>21147</td>\n",
       "    </tr>\n",
       "    <tr>\n",
       "      <th>2013-10</th>\n",
       "      <td>6499</td>\n",
       "      <td>20276</td>\n",
       "      <td>22294</td>\n",
       "    </tr>\n",
       "    <tr>\n",
       "      <th>2013-11</th>\n",
       "      <td>6384</td>\n",
       "      <td>19824</td>\n",
       "      <td>20272</td>\n",
       "    </tr>\n",
       "    <tr>\n",
       "      <th>2013-12</th>\n",
       "      <td>3696</td>\n",
       "      <td>15400</td>\n",
       "      <td>14504</td>\n",
       "    </tr>\n",
       "  </tbody>\n",
       "</table>\n",
       "</div>"
      ],
      "text/plain": [
       "Destination    AGP    BCN    MAD\n",
       "PlotDate                        \n",
       "2013-01       9633  29469  24258\n",
       "2013-02       8379  28329  22800\n",
       "2013-03      10659  30552  24681\n",
       "2013-04       8265  31236  25251\n",
       "2013-05      10830  28728  26334\n",
       "2013-06       7923  26505  22800\n",
       "2013-07       8892  29241  22971\n",
       "2013-08       7866  27075  21831\n",
       "2013-09       8151  23427  21147\n",
       "2013-10       6499  20276  22294\n",
       "2013-11       6384  19824  20272\n",
       "2013-12       3696  15400  14504"
      ]
     },
     "execution_count": 30,
     "metadata": {},
     "output_type": "execute_result"
    }
   ],
   "source": [
    "to_plot = reset.pivot(index='PlotDate', columns='Destination', values='Date')\n",
    "to_plot"
   ]
  },
  {
   "cell_type": "code",
   "execution_count": 31,
   "metadata": {},
   "outputs": [
    {
     "data": {
      "text/plain": [
       "<matplotlib.axes._subplots.AxesSubplot at 0x7f113154ceb8>"
      ]
     },
     "execution_count": 31,
     "metadata": {},
     "output_type": "execute_result"
    },
    {
     "data": {
      "image/png": "[encoded data removed]",
      "text/plain": [
       "<Figure size 432x288 with 1 Axes>"
      ]
     },
     "metadata": {},
     "output_type": "display_data"
    }
   ],
   "source": [
    "to_plot.plot()"
   ]
  },
  {
   "cell_type": "markdown",
   "metadata": {
    "collapsed": true
   },
   "source": [
    "## group by arr_port search month"
   ]
  },
  {
   "cell_type": "code",
   "execution_count": 32,
   "metadata": {
    "scrolled": true
   },
   "outputs": [
    {
     "name": "stderr",
     "output_type": "stream",
     "text": [
      "/home/dsc/anaconda3/lib/python3.6/site-packages/ipykernel_launcher.py:1: SettingWithCopyWarning: \n",
      "A value is trying to be set on a copy of a slice from a DataFrame.\n",
      "Try using .loc[row_indexer,col_indexer] = value instead\n",
      "\n",
      "See the caveats in the documentation: http://pandas.pydata.org/pandas-docs/stable/indexing.html#indexing-view-versus-copy\n",
      "  \"\"\"Entry point for launching an IPython kernel.\n"
     ]
    }
   ],
   "source": [
    "df_filtered['Destination'] = df_filtered['Destination'].astype(object)"
   ]
  },
  {
   "cell_type": "code",
   "execution_count": 33,
   "metadata": {},
   "outputs": [],
   "source": [
    "gb = df_filtered.groupby(by=['Destination', df_filtered['Date'].dt.month])['Time'].agg('count')"
   ]
  },
  {
   "cell_type": "markdown",
   "metadata": {},
   "source": [
    "We need to reset the index because pivot requires a flat DataFrame"
   ]
  },
  {
   "cell_type": "code",
   "execution_count": 34,
   "metadata": {},
   "outputs": [],
   "source": [
    "gbr = gb.reset_index()"
   ]
  },
  {
   "cell_type": "markdown",
   "metadata": {},
   "source": [
    "Now we are ready to reorganize the DataFrame into the shape we need for plotting."
   ]
  },
  {
   "cell_type": "code",
   "execution_count": 35,
   "metadata": {},
   "outputs": [],
   "source": [
    "pt_gbr = gbr.pivot_table(index='Date', columns='Destination', values='Time', aggfunc='first')"
   ]
  },
  {
   "cell_type": "markdown",
   "metadata": {},
   "source": [
    "## 4.3 Plotting"
   ]
  },
  {
   "cell_type": "code",
   "execution_count": 36,
   "metadata": {
    "scrolled": true
   },
   "outputs": [
    {
     "data": {
      "text/plain": [
       "<matplotlib.axes._subplots.AxesSubplot at 0x7f11026adeb8>"
      ]
     },
     "execution_count": 36,
     "metadata": {},
     "output_type": "execute_result"
    },
    {
     "data": {
      "image/png": "[encoded data removed]",
      "text/plain": [
       "<Figure size 432x288 with 1 Axes>"
      ]
     },
     "metadata": {},
     "output_type": "display_data"
    }
   ],
   "source": [
    "pt_gbr.plot()"
   ]
  },
  {
   "cell_type": "markdown",
   "metadata": {},
   "source": [
    "## 5) Adjust the code to work with Big data"
   ]
  },
  {
   "cell_type": "code",
   "execution_count": 37,
   "metadata": {},
   "outputs": [],
   "source": [
    "bd = pd.read_csv('searches.csv.bz2', compression='bz2', header=0, usecols=list_cols_to_use, sep='^', chunksize=10e4)"
   ]
  },
  {
   "cell_type": "code",
   "execution_count": 38,
   "metadata": {},
   "outputs": [],
   "source": [
    "for chunk in bd:\n",
    "    chunk = chunk[chunk['Destination'].isin(['MAD', 'BCN', 'AGP'])]"
   ]
  },
  {
   "cell_type": "code",
   "execution_count": 41,
   "metadata": {},
   "outputs": [],
   "source": [
    "from datetime import datetime"
   ]
  },
  {
   "cell_type": "code",
   "execution_count": 42,
   "metadata": {},
   "outputs": [
    {
     "name": "stdout",
     "output_type": "stream",
     "text": [
      "Starting with chunk 00 at 2018-12-07 17:41:12.526749\n"
     ]
    },
    {
     "name": "stderr",
     "output_type": "stream",
     "text": [
      "/home/dsc/anaconda3/lib/python3.6/site-packages/ipykernel_launcher.py:7: SettingWithCopyWarning: \n",
      "A value is trying to be set on a copy of a slice from a DataFrame.\n",
      "Try using .loc[row_indexer,col_indexer] = value instead\n",
      "\n",
      "See the caveats in the documentation: http://pandas.pydata.org/pandas-docs/stable/indexing.html#indexing-view-versus-copy\n",
      "  import sys\n"
     ]
    },
    {
     "name": "stdout",
     "output_type": "stream",
     "text": [
      "Starting with chunk 01 at 2018-12-07 17:41:15.342295\n",
      "Starting with chunk 02 at 2018-12-07 17:41:18.511405\n",
      "Starting with chunk 03 at 2018-12-07 17:41:20.670435\n",
      "Starting with chunk 04 at 2018-12-07 17:41:22.745158\n",
      "Starting with chunk 05 at 2018-12-07 17:41:24.594743\n",
      "Starting with chunk 06 at 2018-12-07 17:41:26.581010\n",
      "Starting with chunk 07 at 2018-12-07 17:41:28.633282\n",
      "Starting with chunk 08 at 2018-12-07 17:41:30.532702\n",
      "Starting with chunk 09 at 2018-12-07 17:41:32.235396\n",
      "Starting with chunk 10 at 2018-12-07 17:41:34.202884\n",
      "Starting with chunk 11 at 2018-12-07 17:41:36.292447\n",
      "Starting with chunk 12 at 2018-12-07 17:41:38.223667\n",
      "Starting with chunk 13 at 2018-12-07 17:41:40.062129\n",
      "Starting with chunk 14 at 2018-12-07 17:41:42.028419\n",
      "Starting with chunk 15 at 2018-12-07 17:41:44.037128\n",
      "Starting with chunk 16 at 2018-12-07 17:41:45.890761\n",
      "Starting with chunk 17 at 2018-12-07 17:41:47.841080\n",
      "Starting with chunk 18 at 2018-12-07 17:41:49.844232\n",
      "Starting with chunk 19 at 2018-12-07 17:41:51.702447\n",
      "Starting with chunk 20 at 2018-12-07 17:41:53.435643\n",
      "Starting with chunk 21 at 2018-12-07 17:41:55.199724\n",
      "Starting with chunk 22 at 2018-12-07 17:41:57.509821\n",
      "Starting with chunk 23 at 2018-12-07 17:41:59.792441\n",
      "Starting with chunk 24 at 2018-12-07 17:42:01.691930\n",
      "Starting with chunk 25 at 2018-12-07 17:42:03.677992\n",
      "Starting with chunk 26 at 2018-12-07 17:42:05.453350\n",
      "Starting with chunk 27 at 2018-12-07 17:42:07.192179\n",
      "Starting with chunk 28 at 2018-12-07 17:42:08.976154\n",
      "Starting with chunk 29 at 2018-12-07 17:42:10.889839\n",
      "Starting with chunk 30 at 2018-12-07 17:42:12.850042\n",
      "Starting with chunk 31 at 2018-12-07 17:42:14.753324\n",
      "Starting with chunk 32 at 2018-12-07 17:42:16.671732\n",
      "Starting with chunk 33 at 2018-12-07 17:42:18.634692\n",
      "Starting with chunk 34 at 2018-12-07 17:42:20.390826\n",
      "Starting with chunk 35 at 2018-12-07 17:42:22.331978\n",
      "Starting with chunk 36 at 2018-12-07 17:42:24.325796\n",
      "Starting with chunk 37 at 2018-12-07 17:42:26.239429\n",
      "Starting with chunk 38 at 2018-12-07 17:42:27.968301\n",
      "Starting with chunk 39 at 2018-12-07 17:42:29.976155\n",
      "Starting with chunk 40 at 2018-12-07 17:42:32.019983\n",
      "Starting with chunk 41 at 2018-12-07 17:42:33.984511\n",
      "Starting with chunk 42 at 2018-12-07 17:42:35.923811\n",
      "Starting with chunk 43 at 2018-12-07 17:42:37.924141\n",
      "Starting with chunk 44 at 2018-12-07 17:42:39.916001\n",
      "Starting with chunk 45 at 2018-12-07 17:42:41.873200\n",
      "Starting with chunk 46 at 2018-12-07 17:42:43.869669\n",
      "Starting with chunk 47 at 2018-12-07 17:42:45.764049\n",
      "Starting with chunk 48 at 2018-12-07 17:42:47.616979\n",
      "Starting with chunk 49 at 2018-12-07 17:42:49.365077\n",
      "Starting with chunk 50 at 2018-12-07 17:42:51.263999\n",
      "Starting with chunk 51 at 2018-12-07 17:42:53.103814\n",
      "Starting with chunk 52 at 2018-12-07 17:42:54.945046\n",
      "Starting with chunk 53 at 2018-12-07 17:42:56.668667\n",
      "Starting with chunk 54 at 2018-12-07 17:42:58.665981\n",
      "Starting with chunk 55 at 2018-12-07 17:43:00.672913\n",
      "Starting with chunk 56 at 2018-12-07 17:43:02.795967\n",
      "Starting with chunk 57 at 2018-12-07 17:43:04.765457\n",
      "Starting with chunk 58 at 2018-12-07 17:43:06.556376\n",
      "Starting with chunk 59 at 2018-12-07 17:43:08.509242\n",
      "Starting with chunk 60 at 2018-12-07 17:43:10.447510\n",
      "Starting with chunk 61 at 2018-12-07 17:43:12.257331\n",
      "Starting with chunk 62 at 2018-12-07 17:43:14.045858\n",
      "Starting with chunk 63 at 2018-12-07 17:43:16.042456\n",
      "Starting with chunk 64 at 2018-12-07 17:43:17.982488\n",
      "Starting with chunk 65 at 2018-12-07 17:43:19.977305\n",
      "Starting with chunk 66 at 2018-12-07 17:43:21.941548\n",
      "Starting with chunk 67 at 2018-12-07 17:43:23.882108\n",
      "Starting with chunk 68 at 2018-12-07 17:43:25.851866\n",
      "Starting with chunk 69 at 2018-12-07 17:43:27.827794\n",
      "Starting with chunk 70 at 2018-12-07 17:43:29.761830\n",
      "Starting with chunk 71 at 2018-12-07 17:43:31.664652\n",
      "Starting with chunk 72 at 2018-12-07 17:43:33.488045\n",
      "Starting with chunk 73 at 2018-12-07 17:43:35.293823\n",
      "Starting with chunk 74 at 2018-12-07 17:43:37.102901\n",
      "Starting with chunk 75 at 2018-12-07 17:43:39.052789\n",
      "Starting with chunk 76 at 2018-12-07 17:43:40.886444\n",
      "Starting with chunk 77 at 2018-12-07 17:43:42.623727\n",
      "Starting with chunk 78 at 2018-12-07 17:43:44.433966\n",
      "Starting with chunk 79 at 2018-12-07 17:43:46.213614\n",
      "Starting with chunk 80 at 2018-12-07 17:43:48.086787\n",
      "Starting with chunk 81 at 2018-12-07 17:43:49.877276\n",
      "Starting with chunk 82 at 2018-12-07 17:43:51.853822\n",
      "Starting with chunk 83 at 2018-12-07 17:43:53.673175\n",
      "Starting with chunk 84 at 2018-12-07 17:43:55.508925\n",
      "Starting with chunk 85 at 2018-12-07 17:43:57.395493\n",
      "Starting with chunk 86 at 2018-12-07 17:43:59.282944\n",
      "Starting with chunk 87 at 2018-12-07 17:44:01.052402\n",
      "Starting with chunk 88 at 2018-12-07 17:44:02.866139\n",
      "Starting with chunk 89 at 2018-12-07 17:44:04.779828\n",
      "Starting with chunk 90 at 2018-12-07 17:44:06.681973\n",
      "Starting with chunk 91 at 2018-12-07 17:44:08.499646\n",
      "Starting with chunk 92 at 2018-12-07 17:44:10.271942\n",
      "Starting with chunk 93 at 2018-12-07 17:44:12.066032\n",
      "Starting with chunk 94 at 2018-12-07 17:44:13.884314\n",
      "Starting with chunk 95 at 2018-12-07 17:44:15.684147\n",
      "Starting with chunk 96 at 2018-12-07 17:44:17.436252\n",
      "Starting with chunk 97 at 2018-12-07 17:44:19.288962\n",
      "Starting with chunk 98 at 2018-12-07 17:44:21.063815\n",
      "Starting with chunk 99 at 2018-12-07 17:44:22.818635\n",
      "Starting with chunk 100 at 2018-12-07 17:44:24.582088\n",
      "Starting with chunk 101 at 2018-12-07 17:44:26.391797\n",
      "Starting with chunk 102 at 2018-12-07 17:44:28.187468\n",
      "Starting with chunk 103 at 2018-12-07 17:44:29.901161\n",
      "Starting with chunk 104 at 2018-12-07 17:44:31.685584\n",
      "Starting with chunk 105 at 2018-12-07 17:44:33.519516\n",
      "Starting with chunk 106 at 2018-12-07 17:44:35.378996\n",
      "Starting with chunk 107 at 2018-12-07 17:44:37.713854\n",
      "Starting with chunk 108 at 2018-12-07 17:44:39.895943\n",
      "Starting with chunk 109 at 2018-12-07 17:44:42.130788\n",
      "Starting with chunk 110 at 2018-12-07 17:44:46.829609\n",
      "Starting with chunk 111 at 2018-12-07 17:44:49.802556\n",
      "Starting with chunk 112 at 2018-12-07 17:44:52.337462\n",
      "Starting with chunk 113 at 2018-12-07 17:44:54.786544\n",
      "Starting with chunk 114 at 2018-12-07 17:44:56.491901\n",
      "Starting with chunk 115 at 2018-12-07 17:44:59.502640\n",
      "Starting with chunk 116 at 2018-12-07 17:45:02.435964\n",
      "Starting with chunk 117 at 2018-12-07 17:45:05.113782\n",
      "Starting with chunk 118 at 2018-12-07 17:45:06.922915\n",
      "Starting with chunk 119 at 2018-12-07 17:45:09.256877\n",
      "Starting with chunk 120 at 2018-12-07 17:45:11.672769\n",
      "Starting with chunk 121 at 2018-12-07 17:45:13.837271\n",
      "Starting with chunk 122 at 2018-12-07 17:45:15.931710\n",
      "Starting with chunk 123 at 2018-12-07 17:45:17.693958\n",
      "Starting with chunk 124 at 2018-12-07 17:45:19.403305\n",
      "Starting with chunk 125 at 2018-12-07 17:45:21.081002\n",
      "Starting with chunk 126 at 2018-12-07 17:45:22.950590\n",
      "Starting with chunk 127 at 2018-12-07 17:45:24.677330\n",
      "Starting with chunk 128 at 2018-12-07 17:45:26.661404\n",
      "Starting with chunk 129 at 2018-12-07 17:45:28.604528\n",
      "Starting with chunk 130 at 2018-12-07 17:45:30.481442\n",
      "Starting with chunk 131 at 2018-12-07 17:45:32.201927\n",
      "Starting with chunk 132 at 2018-12-07 17:45:33.921919\n",
      "Starting with chunk 133 at 2018-12-07 17:45:35.910883\n",
      "Starting with chunk 134 at 2018-12-07 17:45:37.991803\n",
      "Starting with chunk 135 at 2018-12-07 17:45:39.715658\n",
      "Starting with chunk 136 at 2018-12-07 17:45:41.490077\n",
      "Starting with chunk 137 at 2018-12-07 17:45:43.343196\n",
      "Starting with chunk 138 at 2018-12-07 17:45:45.112884\n",
      "Starting with chunk 139 at 2018-12-07 17:45:46.835311\n",
      "Starting with chunk 140 at 2018-12-07 17:45:48.592764\n",
      "Starting with chunk 141 at 2018-12-07 17:45:50.344399\n",
      "Starting with chunk 142 at 2018-12-07 17:45:52.088906\n",
      "Starting with chunk 143 at 2018-12-07 17:45:53.796049\n",
      "Starting with chunk 144 at 2018-12-07 17:45:55.943738\n",
      "Starting with chunk 145 at 2018-12-07 17:45:58.757148\n",
      "Starting with chunk 146 at 2018-12-07 17:46:00.638085\n",
      "Starting with chunk 147 at 2018-12-07 17:46:02.792847\n",
      "Starting with chunk 148 at 2018-12-07 17:46:04.588007\n",
      "Starting with chunk 149 at 2018-12-07 17:46:06.340070\n",
      "Starting with chunk 150 at 2018-12-07 17:46:08.128313\n",
      "Starting with chunk 151 at 2018-12-07 17:46:09.912472\n",
      "Starting with chunk 152 at 2018-12-07 17:46:11.741846\n",
      "Starting with chunk 153 at 2018-12-07 17:46:13.513554\n",
      "Starting with chunk 154 at 2018-12-07 17:46:15.360150\n"
     ]
    },
    {
     "name": "stdout",
     "output_type": "stream",
     "text": [
      "Starting with chunk 155 at 2018-12-07 17:46:17.189491\n",
      "Starting with chunk 156 at 2018-12-07 17:46:18.957278\n",
      "Starting with chunk 157 at 2018-12-07 17:46:20.632424\n",
      "Starting with chunk 158 at 2018-12-07 17:46:22.461686\n",
      "Starting with chunk 159 at 2018-12-07 17:46:24.274697\n",
      "Starting with chunk 160 at 2018-12-07 17:46:26.178750\n",
      "Starting with chunk 161 at 2018-12-07 17:46:27.992738\n",
      "Starting with chunk 162 at 2018-12-07 17:46:29.768301\n",
      "Starting with chunk 163 at 2018-12-07 17:46:31.549583\n",
      "Starting with chunk 164 at 2018-12-07 17:46:33.255601\n",
      "Starting with chunk 165 at 2018-12-07 17:46:35.013586\n",
      "Starting with chunk 166 at 2018-12-07 17:46:36.746345\n",
      "Starting with chunk 167 at 2018-12-07 17:46:38.484792\n",
      "Starting with chunk 168 at 2018-12-07 17:46:40.190241\n",
      "Starting with chunk 169 at 2018-12-07 17:46:41.930418\n",
      "Starting with chunk 170 at 2018-12-07 17:46:43.731933\n",
      "Starting with chunk 171 at 2018-12-07 17:46:45.481974\n",
      "Starting with chunk 172 at 2018-12-07 17:46:47.228156\n",
      "Starting with chunk 173 at 2018-12-07 17:46:49.062018\n",
      "Starting with chunk 174 at 2018-12-07 17:46:50.776562\n",
      "Starting with chunk 175 at 2018-12-07 17:46:52.486103\n",
      "Starting with chunk 176 at 2018-12-07 17:46:54.525785\n",
      "Starting with chunk 177 at 2018-12-07 17:46:56.486663\n",
      "Starting with chunk 178 at 2018-12-07 17:46:58.416803\n",
      "Starting with chunk 179 at 2018-12-07 17:47:00.361566\n",
      "Starting with chunk 180 at 2018-12-07 17:47:02.502266\n",
      "Starting with chunk 181 at 2018-12-07 17:47:04.296185\n",
      "Starting with chunk 182 at 2018-12-07 17:47:06.027974\n",
      "Starting with chunk 183 at 2018-12-07 17:47:07.803177\n",
      "Starting with chunk 184 at 2018-12-07 17:47:09.550699\n",
      "Starting with chunk 185 at 2018-12-07 17:47:11.282316\n",
      "Starting with chunk 186 at 2018-12-07 17:47:13.065292\n",
      "Starting with chunk 187 at 2018-12-07 17:47:14.854105\n",
      "Starting with chunk 188 at 2018-12-07 17:47:16.605288\n",
      "Starting with chunk 189 at 2018-12-07 17:47:18.320684\n",
      "Starting with chunk 190 at 2018-12-07 17:47:20.234533\n",
      "Starting with chunk 191 at 2018-12-07 17:47:22.019796\n",
      "Starting with chunk 192 at 2018-12-07 17:47:23.740373\n",
      "Starting with chunk 193 at 2018-12-07 17:47:25.412287\n",
      "Starting with chunk 194 at 2018-12-07 17:47:27.203541\n",
      "Starting with chunk 195 at 2018-12-07 17:47:29.011991\n",
      "Starting with chunk 196 at 2018-12-07 17:47:30.762377\n",
      "Starting with chunk 197 at 2018-12-07 17:47:32.480512\n",
      "Starting with chunk 198 at 2018-12-07 17:47:34.245453\n",
      "Starting with chunk 199 at 2018-12-07 17:47:36.032529\n",
      "Starting with chunk 200 at 2018-12-07 17:47:37.823020\n",
      "Starting with chunk 201 at 2018-12-07 17:47:39.649370\n",
      "Starting with chunk 202 at 2018-12-07 17:47:41.458222\n",
      "Starting with chunk 203 at 2018-12-07 17:47:43.063564\n",
      "CPU times: user 6min 13s, sys: 7.69 s, total: 6min 20s\n",
      "Wall time: 6min 32s\n"
     ]
    }
   ],
   "source": [
    "%%time\n",
    "reader = pd.read_csv('searches.csv.bz2', compression='bz2', header=0, usecols=list_cols_to_use, sep='^', chunksize=10e4)\n",
    "partials = []\n",
    "\n",
    "for nchunk, chunk in enumerate(reader):\n",
    "    print('Starting with chunk %.2d at %s' % (nchunk, datetime.now()))\n",
    "    filtered_destinations = chunk[chunk['Destination'].isin(['MAD', 'BCN', 'AGP'])]\n",
    "    filtered_destinations['PlotDate'] = filtered_destinations['Date'].str[:7]\n",
    "    nsearches = filtered_destinations.groupby(['Destination', 'PlotDate']).count()\n",
    "    to_plot = nsearches.reset_index().pivot(index='PlotDate', columns='Destination', values='Date')\n",
    "    \n",
    "    partials.append(to_plot)\n",
    "    \n",
    "final_result = pd.concat(partials).reset_index().groupby('PlotDate').sum()\n",
    "final_result"
   ]
  },
  {
   "cell_type": "code",
   "execution_count": 43,
   "metadata": {},
   "outputs": [
    {
     "data": {
      "text/plain": [
       "<matplotlib.axes._subplots.AxesSubplot at 0x7f114ee26550>"
      ]
     },
     "execution_count": 43,
     "metadata": {},
     "output_type": "execute_result"
    },
    {
     "data": {
      "image/png": "[encoded data removed]",
      "text/plain": [
       "<Figure size 432x288 with 1 Axes>"
      ]
     },
     "metadata": {},
     "output_type": "display_data"
    }
   ],
   "source": [
    "final_result.plot()"
   ]
  },
  {
   "cell_type": "code",
   "execution_count": 44,
   "metadata": {},
   "outputs": [
    {
     "name": "stdout",
     "output_type": "stream",
     "text": [
      "Starting with chunk 00 at 2018-12-07 17:47:45.814247\n"
     ]
    },
    {
     "name": "stderr",
     "output_type": "stream",
     "text": [
      "/home/dsc/anaconda3/lib/python3.6/site-packages/ipykernel_launcher.py:7: SettingWithCopyWarning: \n",
      "A value is trying to be set on a copy of a slice from a DataFrame.\n",
      "Try using .loc[row_indexer,col_indexer] = value instead\n",
      "\n",
      "See the caveats in the documentation: http://pandas.pydata.org/pandas-docs/stable/indexing.html#indexing-view-versus-copy\n",
      "  import sys\n"
     ]
    },
    {
     "name": "stdout",
     "output_type": "stream",
     "text": [
      "Starting with chunk 01 at 2018-12-07 17:47:47.726298\n",
      "Starting with chunk 02 at 2018-12-07 17:47:49.494373\n",
      "Starting with chunk 03 at 2018-12-07 17:47:51.310723\n",
      "Starting with chunk 04 at 2018-12-07 17:47:53.116339\n",
      "Starting with chunk 05 at 2018-12-07 17:47:54.830129\n",
      "Starting with chunk 06 at 2018-12-07 17:47:56.729112\n",
      "Starting with chunk 07 at 2018-12-07 17:47:58.740064\n",
      "Starting with chunk 08 at 2018-12-07 17:48:00.506502\n",
      "Starting with chunk 09 at 2018-12-07 17:48:02.511224\n",
      "Starting with chunk 10 at 2018-12-07 17:48:04.208288\n",
      "Starting with chunk 11 at 2018-12-07 17:48:06.000786\n",
      "Starting with chunk 12 at 2018-12-07 17:48:07.728437\n",
      "Starting with chunk 13 at 2018-12-07 17:48:09.493597\n",
      "Starting with chunk 14 at 2018-12-07 17:48:11.487341\n",
      "Starting with chunk 15 at 2018-12-07 17:48:13.248810\n",
      "Starting with chunk 16 at 2018-12-07 17:48:14.958665\n",
      "Starting with chunk 17 at 2018-12-07 17:48:16.624954\n",
      "Starting with chunk 18 at 2018-12-07 17:48:18.416000\n",
      "Starting with chunk 19 at 2018-12-07 17:48:20.213893\n",
      "Starting with chunk 20 at 2018-12-07 17:48:22.117344\n",
      "Starting with chunk 21 at 2018-12-07 17:48:23.849825\n",
      "Starting with chunk 22 at 2018-12-07 17:48:25.599460\n",
      "Starting with chunk 23 at 2018-12-07 17:48:27.307355\n",
      "Starting with chunk 24 at 2018-12-07 17:48:29.025090\n",
      "Starting with chunk 25 at 2018-12-07 17:48:30.755354\n",
      "Starting with chunk 26 at 2018-12-07 17:48:32.524526\n",
      "Starting with chunk 27 at 2018-12-07 17:48:34.245544\n",
      "Starting with chunk 28 at 2018-12-07 17:48:35.924709\n",
      "Starting with chunk 29 at 2018-12-07 17:48:37.709993\n",
      "Starting with chunk 30 at 2018-12-07 17:48:39.553851\n",
      "Starting with chunk 31 at 2018-12-07 17:48:41.476534\n",
      "Starting with chunk 32 at 2018-12-07 17:48:43.231372\n",
      "Starting with chunk 33 at 2018-12-07 17:48:45.051015\n",
      "Starting with chunk 34 at 2018-12-07 17:48:46.793970\n",
      "Starting with chunk 35 at 2018-12-07 17:48:48.524719\n",
      "Starting with chunk 36 at 2018-12-07 17:48:50.323463\n",
      "Starting with chunk 37 at 2018-12-07 17:48:52.059917\n",
      "Starting with chunk 38 at 2018-12-07 17:48:53.767463\n",
      "Starting with chunk 39 at 2018-12-07 17:48:55.548730\n",
      "Starting with chunk 40 at 2018-12-07 17:48:57.328061\n",
      "Starting with chunk 41 at 2018-12-07 17:48:59.076679\n",
      "Starting with chunk 42 at 2018-12-07 17:49:00.973714\n",
      "Starting with chunk 43 at 2018-12-07 17:49:03.667434\n",
      "Starting with chunk 44 at 2018-12-07 17:49:08.016186\n",
      "Starting with chunk 45 at 2018-12-07 17:49:11.278005\n",
      "Starting with chunk 46 at 2018-12-07 17:49:13.958006\n",
      "Starting with chunk 47 at 2018-12-07 17:49:16.406115\n",
      "Starting with chunk 48 at 2018-12-07 17:49:18.256066\n",
      "Starting with chunk 49 at 2018-12-07 17:49:19.986181\n",
      "Starting with chunk 50 at 2018-12-07 17:49:21.791809\n",
      "Starting with chunk 51 at 2018-12-07 17:49:23.575206\n",
      "Starting with chunk 52 at 2018-12-07 17:49:25.396115\n",
      "Starting with chunk 53 at 2018-12-07 17:49:27.092168\n",
      "Starting with chunk 54 at 2018-12-07 17:49:28.987567\n",
      "Starting with chunk 55 at 2018-12-07 17:49:30.931923\n",
      "Starting with chunk 56 at 2018-12-07 17:49:32.860173\n",
      "Starting with chunk 57 at 2018-12-07 17:49:34.811043\n",
      "Starting with chunk 58 at 2018-12-07 17:49:36.792160\n",
      "Starting with chunk 59 at 2018-12-07 17:49:38.752349\n",
      "Starting with chunk 60 at 2018-12-07 17:49:40.693097\n",
      "Starting with chunk 61 at 2018-12-07 17:49:42.655673\n",
      "Starting with chunk 62 at 2018-12-07 17:49:44.634781\n",
      "Starting with chunk 63 at 2018-12-07 17:49:46.538366\n",
      "Starting with chunk 64 at 2018-12-07 17:49:48.401088\n",
      "Starting with chunk 65 at 2018-12-07 17:49:50.376706\n",
      "Starting with chunk 66 at 2018-12-07 17:49:52.347981\n",
      "Starting with chunk 67 at 2018-12-07 17:49:54.020503\n",
      "Starting with chunk 68 at 2018-12-07 17:49:56.355166\n",
      "Starting with chunk 69 at 2018-12-07 17:49:58.588879\n",
      "Starting with chunk 70 at 2018-12-07 17:50:00.363523\n",
      "Starting with chunk 71 at 2018-12-07 17:50:02.253589\n",
      "Starting with chunk 72 at 2018-12-07 17:50:04.024538\n",
      "Starting with chunk 73 at 2018-12-07 17:50:05.793962\n",
      "Starting with chunk 74 at 2018-12-07 17:50:07.479971\n",
      "Starting with chunk 75 at 2018-12-07 17:50:09.222928\n",
      "Starting with chunk 76 at 2018-12-07 17:50:11.094871\n",
      "Starting with chunk 77 at 2018-12-07 17:50:12.844239\n",
      "Starting with chunk 78 at 2018-12-07 17:50:14.577118\n",
      "Starting with chunk 79 at 2018-12-07 17:50:16.382409\n",
      "Starting with chunk 80 at 2018-12-07 17:50:18.204950\n",
      "Starting with chunk 81 at 2018-12-07 17:50:19.989436\n",
      "Starting with chunk 82 at 2018-12-07 17:50:21.745227\n",
      "Starting with chunk 83 at 2018-12-07 17:50:23.485342\n",
      "Starting with chunk 84 at 2018-12-07 17:50:25.227591\n",
      "Starting with chunk 85 at 2018-12-07 17:50:26.970291\n",
      "Starting with chunk 86 at 2018-12-07 17:50:28.827920\n",
      "Starting with chunk 87 at 2018-12-07 17:50:30.660195\n",
      "Starting with chunk 88 at 2018-12-07 17:50:32.382055\n",
      "Starting with chunk 89 at 2018-12-07 17:50:34.035673\n",
      "Starting with chunk 90 at 2018-12-07 17:50:35.801126\n",
      "Starting with chunk 91 at 2018-12-07 17:50:37.552766\n",
      "Starting with chunk 92 at 2018-12-07 17:50:39.388469\n",
      "Starting with chunk 93 at 2018-12-07 17:50:41.276029\n",
      "Starting with chunk 94 at 2018-12-07 17:50:43.247404\n",
      "Starting with chunk 95 at 2018-12-07 17:50:45.103926\n",
      "Starting with chunk 96 at 2018-12-07 17:50:46.899746\n",
      "Starting with chunk 97 at 2018-12-07 17:50:48.746765\n",
      "Starting with chunk 98 at 2018-12-07 17:50:50.588671\n",
      "Starting with chunk 99 at 2018-12-07 17:50:52.466529\n",
      "Starting with chunk 100 at 2018-12-07 17:50:54.207714\n",
      "Starting with chunk 101 at 2018-12-07 17:50:55.997174\n",
      "Starting with chunk 102 at 2018-12-07 17:50:57.741875\n",
      "Starting with chunk 103 at 2018-12-07 17:50:59.438781\n",
      "Starting with chunk 104 at 2018-12-07 17:51:01.213458\n",
      "Starting with chunk 105 at 2018-12-07 17:51:03.077480\n",
      "Starting with chunk 106 at 2018-12-07 17:51:04.781843\n",
      "Starting with chunk 107 at 2018-12-07 17:51:06.528675\n",
      "Starting with chunk 108 at 2018-12-07 17:51:08.300171\n",
      "Starting with chunk 109 at 2018-12-07 17:51:10.089492\n",
      "Starting with chunk 110 at 2018-12-07 17:51:11.835523\n",
      "Starting with chunk 111 at 2018-12-07 17:51:13.592794\n",
      "Starting with chunk 112 at 2018-12-07 17:51:15.351302\n",
      "Starting with chunk 113 at 2018-12-07 17:51:17.096472\n",
      "Starting with chunk 114 at 2018-12-07 17:51:18.779204\n",
      "Starting with chunk 115 at 2018-12-07 17:51:20.515051\n",
      "Starting with chunk 116 at 2018-12-07 17:51:22.227603\n",
      "Starting with chunk 117 at 2018-12-07 17:51:23.880707\n",
      "Starting with chunk 118 at 2018-12-07 17:51:25.655413\n",
      "Starting with chunk 119 at 2018-12-07 17:51:27.474713\n",
      "Starting with chunk 120 at 2018-12-07 17:51:29.188508\n",
      "Starting with chunk 121 at 2018-12-07 17:51:30.874784\n",
      "Starting with chunk 122 at 2018-12-07 17:51:32.690940\n",
      "Starting with chunk 123 at 2018-12-07 17:51:34.395632\n",
      "Starting with chunk 124 at 2018-12-07 17:51:36.109379\n",
      "Starting with chunk 125 at 2018-12-07 17:51:37.841023\n",
      "Starting with chunk 126 at 2018-12-07 17:51:39.695420\n",
      "Starting with chunk 127 at 2018-12-07 17:51:41.475229\n",
      "Starting with chunk 128 at 2018-12-07 17:51:43.209149\n",
      "Starting with chunk 129 at 2018-12-07 17:51:44.977179\n",
      "Starting with chunk 130 at 2018-12-07 17:51:46.844893\n",
      "Starting with chunk 131 at 2018-12-07 17:51:48.521177\n",
      "Starting with chunk 132 at 2018-12-07 17:51:50.237228\n",
      "Starting with chunk 133 at 2018-12-07 17:51:52.018521\n",
      "Starting with chunk 134 at 2018-12-07 17:51:53.784878\n",
      "Starting with chunk 135 at 2018-12-07 17:51:55.592073\n",
      "Starting with chunk 136 at 2018-12-07 17:51:57.527339\n",
      "Starting with chunk 137 at 2018-12-07 17:51:59.413973\n",
      "Starting with chunk 138 at 2018-12-07 17:52:01.187820\n",
      "Starting with chunk 139 at 2018-12-07 17:52:02.876752\n",
      "Starting with chunk 140 at 2018-12-07 17:52:05.000837\n",
      "Starting with chunk 141 at 2018-12-07 17:52:06.985751\n",
      "Starting with chunk 142 at 2018-12-07 17:52:08.874092\n",
      "Starting with chunk 143 at 2018-12-07 17:52:10.649278\n",
      "Starting with chunk 144 at 2018-12-07 17:52:12.436240\n",
      "Starting with chunk 145 at 2018-12-07 17:52:14.161039\n",
      "Starting with chunk 146 at 2018-12-07 17:52:15.877462\n",
      "Starting with chunk 147 at 2018-12-07 17:52:17.642994\n",
      "Starting with chunk 148 at 2018-12-07 17:52:19.378206\n",
      "Starting with chunk 149 at 2018-12-07 17:52:21.104322\n",
      "Starting with chunk 150 at 2018-12-07 17:52:22.786931\n",
      "Starting with chunk 151 at 2018-12-07 17:52:24.531717\n",
      "Starting with chunk 152 at 2018-12-07 17:52:26.308212\n",
      "Starting with chunk 153 at 2018-12-07 17:52:27.992603\n",
      "Starting with chunk 154 at 2018-12-07 17:52:29.663811\n"
     ]
    },
    {
     "name": "stdout",
     "output_type": "stream",
     "text": [
      "Starting with chunk 155 at 2018-12-07 17:52:31.393105\n",
      "Starting with chunk 156 at 2018-12-07 17:52:33.104707\n",
      "Starting with chunk 157 at 2018-12-07 17:52:34.768564\n",
      "Starting with chunk 158 at 2018-12-07 17:52:36.567831\n",
      "Starting with chunk 159 at 2018-12-07 17:52:38.294938\n",
      "Starting with chunk 160 at 2018-12-07 17:52:39.960109\n",
      "Starting with chunk 161 at 2018-12-07 17:52:41.872204\n",
      "Starting with chunk 162 at 2018-12-07 17:52:43.695705\n",
      "Starting with chunk 163 at 2018-12-07 17:52:45.787952\n",
      "Starting with chunk 164 at 2018-12-07 17:52:48.246451\n",
      "Starting with chunk 165 at 2018-12-07 17:52:50.660206\n",
      "Starting with chunk 166 at 2018-12-07 17:52:52.733521\n",
      "Starting with chunk 167 at 2018-12-07 17:52:54.547518\n",
      "Starting with chunk 168 at 2018-12-07 17:52:56.321146\n",
      "Starting with chunk 169 at 2018-12-07 17:52:58.092697\n",
      "Starting with chunk 170 at 2018-12-07 17:52:59.891446\n",
      "Starting with chunk 171 at 2018-12-07 17:53:01.633022\n",
      "Starting with chunk 172 at 2018-12-07 17:53:03.451507\n",
      "Starting with chunk 173 at 2018-12-07 17:53:05.267480\n",
      "Starting with chunk 174 at 2018-12-07 17:53:07.121229\n",
      "Starting with chunk 175 at 2018-12-07 17:53:08.876684\n",
      "Starting with chunk 176 at 2018-12-07 17:53:10.663831\n",
      "Starting with chunk 177 at 2018-12-07 17:53:12.385807\n",
      "Starting with chunk 178 at 2018-12-07 17:53:14.190477\n",
      "Starting with chunk 179 at 2018-12-07 17:53:15.882216\n",
      "Starting with chunk 180 at 2018-12-07 17:53:17.649346\n",
      "Starting with chunk 181 at 2018-12-07 17:53:19.346250\n",
      "Starting with chunk 182 at 2018-12-07 17:53:21.051988\n",
      "Starting with chunk 183 at 2018-12-07 17:53:22.802754\n",
      "Starting with chunk 184 at 2018-12-07 17:53:24.504873\n",
      "Starting with chunk 185 at 2018-12-07 17:53:26.184667\n",
      "Starting with chunk 186 at 2018-12-07 17:53:27.909788\n",
      "Starting with chunk 187 at 2018-12-07 17:53:29.606253\n",
      "Starting with chunk 188 at 2018-12-07 17:53:31.370890\n",
      "Starting with chunk 189 at 2018-12-07 17:53:33.077739\n",
      "Starting with chunk 190 at 2018-12-07 17:53:34.784537\n",
      "Starting with chunk 191 at 2018-12-07 17:53:36.665614\n",
      "Starting with chunk 192 at 2018-12-07 17:53:38.591291\n",
      "Starting with chunk 193 at 2018-12-07 17:53:40.274259\n",
      "Starting with chunk 194 at 2018-12-07 17:53:42.153659\n",
      "Starting with chunk 195 at 2018-12-07 17:53:43.927790\n",
      "Starting with chunk 196 at 2018-12-07 17:53:45.590109\n",
      "Starting with chunk 197 at 2018-12-07 17:53:47.514407\n",
      "Starting with chunk 198 at 2018-12-07 17:53:49.355089\n",
      "Starting with chunk 199 at 2018-12-07 17:53:51.092605\n",
      "Starting with chunk 200 at 2018-12-07 17:53:52.769921\n",
      "Starting with chunk 201 at 2018-12-07 17:53:54.509341\n",
      "Starting with chunk 202 at 2018-12-07 17:53:57.065991\n",
      "Starting with chunk 203 at 2018-12-07 17:53:58.990016\n",
      "CPU times: user 6min 2s, sys: 5.39 s, total: 6min 7s\n",
      "Wall time: 6min 15s\n"
     ]
    }
   ],
   "source": [
    "%%time\n",
    "reader = pd.read_csv('searches.csv.bz2', compression='bz2', header=0, usecols=list_cols_to_use, sep='^', chunksize=10e4)\n",
    "partials = []\n",
    "\n",
    "for nchunk, chunk in enumerate(reader):\n",
    "    print('Starting with chunk %.2d at %s' % (nchunk, datetime.now()))\n",
    "    filtered_destinations = chunk[chunk['Destination'].isin(['MAD', 'BCN', 'AGP'])]\n",
    "    filtered_destinations['count'] = 1\n",
    "    nsearches = filtered_destinations.groupby(['Destination', 'Date']).count()\n",
    "    to_plot = nsearches.reset_index().pivot(index='Date', columns='Destination', values='count')\n",
    "    \n",
    "    partials.append(to_plot)\n",
    "    \n",
    "per_day = pd.concat(partials).reset_index().groupby('Date').sum()\n",
    "per_day"
   ]
  },
  {
   "cell_type": "code",
   "execution_count": 45,
   "metadata": {},
   "outputs": [
    {
     "data": {
      "text/plain": [
       "<matplotlib.axes._subplots.AxesSubplot at 0x7f114ef31550>"
      ]
     },
     "execution_count": 45,
     "metadata": {},
     "output_type": "execute_result"
    },
    {
     "data": {
      "image/png": "[encoded data removed]",
      "text/plain": [
       "<Figure size 864x576 with 1 Axes>"
      ]
     },
     "metadata": {},
     "output_type": "display_data"
    }
   ],
   "source": [
    "f, ax = plt.subplots(figsize=(12,8))\n",
    "per_day.plot(ax=ax)"
   ]
  },
  {
   "cell_type": "code",
   "execution_count": null,
   "metadata": {},
   "outputs": [],
   "source": []
  }
 ],
 "metadata": {
  "kernelspec": {
   "display_name": "Python 3",
   "language": "python",
   "name": "python3"
  },
  "language_info": {
   "codemirror_mode": {
    "name": "ipython",
    "version": 3
   },
   "file_extension": ".py",
   "mimetype": "text/x-python",
   "name": "python",
   "nbconvert_exporter": "python",
   "pygments_lexer": "ipython3",
   "version": "3.6.4"
  }
 },
 "nbformat": 4,
 "nbformat_minor": 1
}
