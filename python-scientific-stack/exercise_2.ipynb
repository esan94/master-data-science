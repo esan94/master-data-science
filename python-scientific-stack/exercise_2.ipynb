{
 "cells": [
  {
   "cell_type": "markdown",
   "metadata": {},
   "source": [
    "# Ejercicios de repaso de Pandas\n",
    "\n",
    "En este notebook vamos a repasar algunos conceptos de Pandas. Este notebook está vacío, pero viene acompanhado de otro notebook con todas las soluciones.\n",
    "\n",
    "**Es extremadamente importante evitar consultar las soluciones hasta que no hayas terminado los ejercicios en este notebook**. Las soluciones pueden parecer sencillas cuando las ves, pero sacarlas por uno mismo puede ser mucho más difícil. **Por favor, solo consulta las soluciones si no puedes avanzar después de varios intentos**."
   ]
  },
  {
   "cell_type": "code",
   "execution_count": 1,
   "metadata": {},
   "outputs": [],
   "source": [
    "import pandas as pd\n",
    "import numpy as np\n",
    "import matplotlib as plt\n",
    "\n",
    "%matplotlib inline"
   ]
  },
  {
   "cell_type": "markdown",
   "metadata": {},
   "source": [
    "## Datos\n",
    "\n",
    "Los datos se encuentran en el directorio `data`. Se trata de un fichero CSV, usando comas como separador, y con los nombres de las columnas en la primera fila.\n",
    "\n",
    "*Puedes intentar usar la shell antes para comprobar cómo es el fichero*.\n",
    "\n",
    "**Ejercicio:** Usa la shell antes de cargar el CSV para comprobar cómo de grande es. **Es posible cargar todo el fichero en memoria?**"
   ]
  },
  {
   "cell_type": "code",
   "execution_count": 2,
   "metadata": {},
   "outputs": [
    {
     "name": "stdout",
     "output_type": "stream",
     "text": [
      "/home/dsc/Downloads\r\n"
     ]
    }
   ],
   "source": [
    "!pwd"
   ]
  },
  {
   "cell_type": "code",
   "execution_count": 9,
   "metadata": {},
   "outputs": [
    {
     "name": "stdout",
     "output_type": "stream",
     "text": [
      "total 1,2G\r\n",
      "-rw-r--r-- 1 dsc dsc  54K nov 17 13:55 02-loading_and_saving_data.empty.ipynb\r\n",
      "-rw-r--r-- 1 dsc dsc 199K nov 23 21:53 05-visualization_introduction.empty.ipynb\r\n",
      "-rw-r--r-- 1 dsc dsc 143K nov 25 22:27 06-intro_to_pandas_practical.empty.ipynb\r\n",
      "-rw-r--r-- 1 dsc dsc  14K nov 25 22:34 07-ejercicios_de_repaso_de_pandas.empty.ipynb\r\n",
      "-r-------- 1 dsc dsc  19K nov 16 17:17 20181116.zip\r\n",
      "-rw-r--r-- 1 dsc dsc 147M nov  8  2015 914310910_T_T100_SEGMENT_ALL_CARRIER_2014_All.csv\r\n",
      "-rw-r--r-- 1 dsc dsc 4,3K nov  8  2015 914310910_T_T100_SEGMENT_ALL_CARRIER_ReadMe.csv\r\n",
      "-rw-r--r-- 1 dsc dsc 6,1K nov  8  2015 914310910_T_T100_SEGMENT_ALL_CARRIER_Terms.csv\r\n",
      "-rw-r--r-- 1 dsc dsc 988M nov 25 22:41 basecamp.zip\r\n",
      "-rw-r--r-- 1 dsc dsc 1,7K nov 25 20:52 ch_01.empty.ipynb\r\n",
      "-rw-r--r-- 1 dsc dsc  12K nov 17 13:27 database.db\r\n",
      "-rw-r--r-- 1 dsc dsc    0 nov 17 13:23 database.sql\r\n",
      "-rw-r--r-- 1 dsc dsc    0 nov 17 13:52 example.db\r\n",
      "-rw-rw-r-- 1 dsc dsc 329K oct 20 17:00 Master_class_02v9.pdf\r\n",
      "-rw-r--r-- 1 dsc dsc  12K oct  5  2015 readme.html\r\n",
      "-rw-r--r-- 1 dsc dsc 7,8K nov 23 20:26 tips.csv\r\n",
      "-rw-r--r-- 1 dsc dsc 5,9K nov 17 13:27 top10.xlsx\r\n"
     ]
    }
   ],
   "source": [
    "!ls -lh"
   ]
  },
  {
   "cell_type": "code",
   "execution_count": 11,
   "metadata": {},
   "outputs": [
    {
     "name": "stdout",
     "output_type": "stream",
     "text": [
      "Archive:  basecamp.zip\r\n",
      "  Length      Date    Time    Name\r\n",
      "---------  ---------- -----   ----\r\n",
      "    12688  2018-11-25 20:52   07-ejercicios_de_repaso_de_pandas.empty.ipynb\r\n",
      "     4122  2018-11-25 20:52   ch_05.empty.ipynb\r\n",
      "     1660  2018-11-25 20:52   ch_01.empty.ipynb\r\n",
      "483188920  2018-11-25 20:52   searches.csv.bz2\r\n",
      "   139421  2018-11-25 20:52   03-merge_concatenate_transform.inclass.ipynb\r\n",
      "554970628  2018-11-25 20:52   bookings.csv.bz2\r\n",
      "    31904  2018-11-25 20:52   weather_year.csv\r\n",
      "     4764  2018-11-25 20:52   ch_03.empty.ipynb\r\n",
      "   173167  2018-11-25 20:52   07_Amadeus_Challenge.pptx\r\n",
      "     6228  2018-11-25 20:52   ch_04.empty.ipynb\r\n",
      "   329322  2018-11-25 20:52   05-visualization_introduction.inclass.ipynb\r\n",
      "     7462  2018-11-25 20:52   ch_02.empty.ipynb\r\n",
      "   111734  2018-11-25 20:52   04-group_by.inclass.ipynb\r\n",
      "---------                     -------\r\n",
      "1038982020                     13 files\r\n"
     ]
    }
   ],
   "source": [
    "!unzip -l basecamp.zip"
   ]
  },
  {
   "cell_type": "code",
   "execution_count": 12,
   "metadata": {},
   "outputs": [],
   "source": [
    "from zipfile import ZipFile\n",
    "\n",
    "zf = ZipFile('basecamp.zip')"
   ]
  },
  {
   "cell_type": "code",
   "execution_count": 13,
   "metadata": {},
   "outputs": [
    {
     "data": {
      "text/plain": [
       "[<ZipInfo filename='07-ejercicios_de_repaso_de_pandas.empty.ipynb' compress_type=deflate filemode='-rw-r--r--' file_size=12688 compress_size=3248>,\n",
       " <ZipInfo filename='ch_05.empty.ipynb' compress_type=deflate filemode='-rw-r--r--' file_size=4122 compress_size=1601>,\n",
       " <ZipInfo filename='ch_01.empty.ipynb' compress_type=deflate filemode='-rw-r--r--' file_size=1660 compress_size=539>,\n",
       " <ZipInfo filename='searches.csv.bz2' compress_type=deflate filemode='-rw-r--r--' file_size=483188920 compress_size=482949858>,\n",
       " <ZipInfo filename='03-merge_concatenate_transform.inclass.ipynb' compress_type=deflate filemode='-rw-r--r--' file_size=139421 compress_size=11096>,\n",
       " <ZipInfo filename='bookings.csv.bz2' compress_type=deflate filemode='-rw-r--r--' file_size=554970628 compress_size=552000333>,\n",
       " <ZipInfo filename='weather_year.csv' compress_type=deflate filemode='-rw-r--r--' file_size=31904 compress_size=9983>,\n",
       " <ZipInfo filename='ch_03.empty.ipynb' compress_type=deflate filemode='-rw-r--r--' file_size=4764 compress_size=1129>,\n",
       " <ZipInfo filename='07_Amadeus_Challenge.pptx' compress_type=deflate filemode='-rw-r--r--' file_size=173167 compress_size=152362>,\n",
       " <ZipInfo filename='ch_04.empty.ipynb' compress_type=deflate filemode='-rw-r--r--' file_size=6228 compress_size=1788>,\n",
       " <ZipInfo filename='05-visualization_introduction.inclass.ipynb' compress_type=deflate filemode='-rw-r--r--' file_size=329322 compress_size=218979>,\n",
       " <ZipInfo filename='ch_02.empty.ipynb' compress_type=deflate filemode='-rw-r--r--' file_size=7462 compress_size=1853>,\n",
       " <ZipInfo filename='04-group_by.inclass.ipynb' compress_type=deflate filemode='-rw-r--r--' file_size=111734 compress_size=9451>]"
      ]
     },
     "execution_count": 13,
     "metadata": {},
     "output_type": "execute_result"
    }
   ],
   "source": [
    "zf.filelist"
   ]
  },
  {
   "cell_type": "code",
   "execution_count": 21,
   "metadata": {},
   "outputs": [],
   "source": [
    "csv = zf.open('weather_year.csv')"
   ]
  },
  {
   "cell_type": "code",
   "execution_count": 20,
   "metadata": {},
   "outputs": [],
   "source": [
    "df = pd.read_csv(csv)"
   ]
  },
  {
   "cell_type": "markdown",
   "metadata": {},
   "source": [
    "## El dataframe\n",
    "\n",
    "**Ejercicio**: Cuántas filas tiene el dataframe? Y cuántas columnas?\n",
    "\n",
    "*Solución*: 366 filas y 23 columnas"
   ]
  },
  {
   "cell_type": "code",
   "execution_count": 16,
   "metadata": {},
   "outputs": [
    {
     "data": {
      "text/plain": [
       "(366, 23)"
      ]
     },
     "execution_count": 16,
     "metadata": {},
     "output_type": "execute_result"
    }
   ],
   "source": [
    "df.shape"
   ]
  },
  {
   "cell_type": "markdown",
   "metadata": {},
   "source": [
    "## Transformar los datos\n",
    "\n",
    "Los datos de la columna EDT parecen ser fechas, pero sin embargo no se han leído como fechas al cargar el data frame.\n",
    "\n",
    "**Ejercicio**: Comprueba de qué tipo son los datos incluidos en la columna EDT. **Vuelve a leer el dataframe (sobre-escribiendo la variable d) para que los datos sea lean como una fecha**."
   ]
  },
  {
   "cell_type": "code",
   "execution_count": 17,
   "metadata": {},
   "outputs": [
    {
     "data": {
      "text/plain": [
       "EDT                            object\n",
       "Max TemperatureF                int64\n",
       "Mean TemperatureF               int64\n",
       "Min TemperatureF                int64\n",
       "Max Dew PointF                  int64\n",
       "MeanDew PointF                  int64\n",
       "Min DewpointF                   int64\n",
       "Max Humidity                    int64\n",
       " Mean Humidity                  int64\n",
       " Min Humidity                   int64\n",
       " Max Sea Level PressureIn     float64\n",
       " Mean Sea Level PressureIn    float64\n",
       " Min Sea Level PressureIn     float64\n",
       " Max VisibilityMiles            int64\n",
       " Mean VisibilityMiles           int64\n",
       " Min VisibilityMiles            int64\n",
       " Max Wind SpeedMPH              int64\n",
       " Mean Wind SpeedMPH             int64\n",
       " Max Gust SpeedMPH            float64\n",
       "PrecipitationIn                object\n",
       " CloudCover                     int64\n",
       " Events                        object\n",
       " WindDirDegrees                 int64\n",
       "dtype: object"
      ]
     },
     "execution_count": 17,
     "metadata": {},
     "output_type": "execute_result"
    }
   ],
   "source": [
    "df.dtypes"
   ]
  },
  {
   "cell_type": "markdown",
   "metadata": {},
   "source": [
    "Para comprobar que los datos se han leído correctamente como una fecha, obtén el año, mes y semana (semana dentro del año, de 1 a 52) de la fecha que está en la cuarta fila en la columna EDT\n",
    "\n",
    "*Solución*: 2012, 3 y 11"
   ]
  },
  {
   "cell_type": "code",
   "execution_count": 26,
   "metadata": {},
   "outputs": [],
   "source": [
    "df = pd.read_csv(csv, parse_dates=['EDT'])"
   ]
  },
  {
   "cell_type": "code",
   "execution_count": 27,
   "metadata": {},
   "outputs": [
    {
     "data": {
      "text/plain": [
       "EDT                           datetime64[ns]\n",
       "Max TemperatureF                       int64\n",
       "Mean TemperatureF                      int64\n",
       "Min TemperatureF                       int64\n",
       "Max Dew PointF                         int64\n",
       "MeanDew PointF                         int64\n",
       "Min DewpointF                          int64\n",
       "Max Humidity                           int64\n",
       " Mean Humidity                         int64\n",
       " Min Humidity                          int64\n",
       " Max Sea Level PressureIn            float64\n",
       " Mean Sea Level PressureIn           float64\n",
       " Min Sea Level PressureIn            float64\n",
       " Max VisibilityMiles                   int64\n",
       " Mean VisibilityMiles                  int64\n",
       " Min VisibilityMiles                   int64\n",
       " Max Wind SpeedMPH                     int64\n",
       " Mean Wind SpeedMPH                    int64\n",
       " Max Gust SpeedMPH                   float64\n",
       "PrecipitationIn                       object\n",
       " CloudCover                            int64\n",
       " Events                               object\n",
       " WindDirDegrees                        int64\n",
       "dtype: object"
      ]
     },
     "execution_count": 27,
     "metadata": {},
     "output_type": "execute_result"
    }
   ],
   "source": [
    "df.dtypes"
   ]
  },
  {
   "cell_type": "code",
   "execution_count": 28,
   "metadata": {},
   "outputs": [
    {
     "data": {
      "text/html": [
       "<div>\n",
       "<style scoped>\n",
       "    .dataframe tbody tr th:only-of-type {\n",
       "        vertical-align: middle;\n",
       "    }\n",
       "\n",
       "    .dataframe tbody tr th {\n",
       "        vertical-align: top;\n",
       "    }\n",
       "\n",
       "    .dataframe thead th {\n",
       "        text-align: right;\n",
       "    }\n",
       "</style>\n",
       "<table border=\"1\" class=\"dataframe\">\n",
       "  <thead>\n",
       "    <tr style=\"text-align: right;\">\n",
       "      <th></th>\n",
       "      <th>EDT</th>\n",
       "      <th>Max TemperatureF</th>\n",
       "      <th>Mean TemperatureF</th>\n",
       "      <th>Min TemperatureF</th>\n",
       "      <th>Max Dew PointF</th>\n",
       "      <th>MeanDew PointF</th>\n",
       "      <th>Min DewpointF</th>\n",
       "      <th>Max Humidity</th>\n",
       "      <th>Mean Humidity</th>\n",
       "      <th>Min Humidity</th>\n",
       "      <th>...</th>\n",
       "      <th>Max VisibilityMiles</th>\n",
       "      <th>Mean VisibilityMiles</th>\n",
       "      <th>Min VisibilityMiles</th>\n",
       "      <th>Max Wind SpeedMPH</th>\n",
       "      <th>Mean Wind SpeedMPH</th>\n",
       "      <th>Max Gust SpeedMPH</th>\n",
       "      <th>PrecipitationIn</th>\n",
       "      <th>CloudCover</th>\n",
       "      <th>Events</th>\n",
       "      <th>WindDirDegrees</th>\n",
       "    </tr>\n",
       "  </thead>\n",
       "  <tbody>\n",
       "    <tr>\n",
       "      <th>257</th>\n",
       "      <td>2012-11-22</td>\n",
       "      <td>64</td>\n",
       "      <td>47</td>\n",
       "      <td>30</td>\n",
       "      <td>47</td>\n",
       "      <td>36</td>\n",
       "      <td>28</td>\n",
       "      <td>100</td>\n",
       "      <td>70</td>\n",
       "      <td>39</td>\n",
       "      <td>...</td>\n",
       "      <td>10</td>\n",
       "      <td>6</td>\n",
       "      <td>0</td>\n",
       "      <td>26</td>\n",
       "      <td>7</td>\n",
       "      <td>36.0</td>\n",
       "      <td>0.08</td>\n",
       "      <td>1</td>\n",
       "      <td>Fog-Rain</td>\n",
       "      <td>189</td>\n",
       "    </tr>\n",
       "    <tr>\n",
       "      <th>152</th>\n",
       "      <td>2012-08-09</td>\n",
       "      <td>89</td>\n",
       "      <td>77</td>\n",
       "      <td>65</td>\n",
       "      <td>67</td>\n",
       "      <td>64</td>\n",
       "      <td>60</td>\n",
       "      <td>93</td>\n",
       "      <td>67</td>\n",
       "      <td>40</td>\n",
       "      <td>...</td>\n",
       "      <td>10</td>\n",
       "      <td>10</td>\n",
       "      <td>5</td>\n",
       "      <td>21</td>\n",
       "      <td>6</td>\n",
       "      <td>32.0</td>\n",
       "      <td>0.32</td>\n",
       "      <td>3</td>\n",
       "      <td>Rain-Thunderstorm</td>\n",
       "      <td>125</td>\n",
       "    </tr>\n",
       "  </tbody>\n",
       "</table>\n",
       "<p>2 rows × 23 columns</p>\n",
       "</div>"
      ],
      "text/plain": [
       "           EDT  Max TemperatureF  Mean TemperatureF  Min TemperatureF  \\\n",
       "257 2012-11-22                64                 47                30   \n",
       "152 2012-08-09                89                 77                65   \n",
       "\n",
       "     Max Dew PointF  MeanDew PointF  Min DewpointF  Max Humidity  \\\n",
       "257              47              36             28           100   \n",
       "152              67              64             60            93   \n",
       "\n",
       "      Mean Humidity   Min Humidity       ...         Max VisibilityMiles  \\\n",
       "257              70             39       ...                          10   \n",
       "152              67             40       ...                          10   \n",
       "\n",
       "      Mean VisibilityMiles   Min VisibilityMiles   Max Wind SpeedMPH  \\\n",
       "257                      6                     0                  26   \n",
       "152                     10                     5                  21   \n",
       "\n",
       "      Mean Wind SpeedMPH   Max Gust SpeedMPH  PrecipitationIn   CloudCover  \\\n",
       "257                    7                36.0             0.08            1   \n",
       "152                    6                32.0             0.32            3   \n",
       "\n",
       "                Events  WindDirDegrees  \n",
       "257           Fog-Rain             189  \n",
       "152  Rain-Thunderstorm             125  \n",
       "\n",
       "[2 rows x 23 columns]"
      ]
     },
     "execution_count": 28,
     "metadata": {},
     "output_type": "execute_result"
    }
   ],
   "source": [
    "df.sample(2)"
   ]
  },
  {
   "cell_type": "code",
   "execution_count": 30,
   "metadata": {},
   "outputs": [
    {
     "data": {
      "text/plain": [
       "2012"
      ]
     },
     "execution_count": 30,
     "metadata": {},
     "output_type": "execute_result"
    }
   ],
   "source": [
    "df.iloc[3]['EDT'].year"
   ]
  },
  {
   "cell_type": "code",
   "execution_count": 31,
   "metadata": {},
   "outputs": [
    {
     "data": {
      "text/plain": [
       "3"
      ]
     },
     "execution_count": 31,
     "metadata": {},
     "output_type": "execute_result"
    }
   ],
   "source": [
    "df.iloc[3]['EDT'].month"
   ]
  },
  {
   "cell_type": "code",
   "execution_count": 32,
   "metadata": {},
   "outputs": [
    {
     "data": {
      "text/plain": [
       "11"
      ]
     },
     "execution_count": 32,
     "metadata": {},
     "output_type": "execute_result"
    }
   ],
   "source": [
    "df.iloc[3]['EDT'].week"
   ]
  },
  {
   "cell_type": "markdown",
   "metadata": {},
   "source": [
    "## Renombrar columnas\n",
    "\n",
    "Vamos a cambiar los nombres de todas las columnas para que sea más sencillo manejarlas"
   ]
  },
  {
   "cell_type": "code",
   "execution_count": 34,
   "metadata": {},
   "outputs": [
    {
     "data": {
      "text/plain": [
       "Index(['EDT', 'Max TemperatureF', 'Mean TemperatureF', 'Min TemperatureF',\n",
       "       'Max Dew PointF', 'MeanDew PointF', 'Min DewpointF', 'Max Humidity',\n",
       "       ' Mean Humidity', ' Min Humidity', ' Max Sea Level PressureIn',\n",
       "       ' Mean Sea Level PressureIn', ' Min Sea Level PressureIn',\n",
       "       ' Max VisibilityMiles', ' Mean VisibilityMiles', ' Min VisibilityMiles',\n",
       "       ' Max Wind SpeedMPH', ' Mean Wind SpeedMPH', ' Max Gust SpeedMPH',\n",
       "       'PrecipitationIn', ' CloudCover', ' Events', ' WindDirDegrees'],\n",
       "      dtype='object')"
      ]
     },
     "execution_count": 34,
     "metadata": {},
     "output_type": "execute_result"
    }
   ],
   "source": [
    "df.columns"
   ]
  },
  {
   "cell_type": "code",
   "execution_count": 82,
   "metadata": {},
   "outputs": [],
   "source": [
    "df = df.rename(columns={'Mean TemperatureF': 'mean_temp',\n",
    "                        'EDT': 'date',\n",
    "                        'Min TemperatureF': 'min_temp',\n",
    "                        'Max TemperatureF': 'max_temp',\n",
    "                        'PrecipitationIn': 'precipitation'})"
   ]
  },
  {
   "cell_type": "markdown",
   "metadata": {},
   "source": [
    "## Propiedades de las columnas\n",
    "\n",
    "Obtén la media, desviación estándar, mínimo y máximo, y los cuartiles de la columna mean_temp\n",
    "\n",
    "Hay un método para dataframes y columnas de dataframes (series) que te permite obtener todos esos valores de una vez. **Puedes encontrar qué método es?**\n",
    "\n",
    "*Solución*:\n",
    "mean      55.683060\n",
    "std       18.436506\n",
    "min       11.000000\n",
    "25%       41.000000\n",
    "50%       59.000000\n",
    "75%       70.750000\n",
    "max       89.000000"
   ]
  },
  {
   "cell_type": "code",
   "execution_count": 40,
   "metadata": {},
   "outputs": [
    {
     "data": {
      "text/plain": [
       "count    366.000000\n",
       "mean      55.683060\n",
       "std       18.436506\n",
       "min       11.000000\n",
       "25%       41.000000\n",
       "50%       59.000000\n",
       "75%       70.750000\n",
       "max       89.000000\n",
       "Name: mean_temp, dtype: float64"
      ]
     },
     "execution_count": 40,
     "metadata": {},
     "output_type": "execute_result"
    }
   ],
   "source": [
    "df['mean_temp'].describe()"
   ]
  },
  {
   "cell_type": "markdown",
   "metadata": {},
   "source": [
    "Ahora vamos a dibujar la evolución de mean_temp.\n",
    "\n",
    "Extrae la columna mean_temp e intenta usar el método plot sobre ella"
   ]
  },
  {
   "cell_type": "code",
   "execution_count": 48,
   "metadata": {},
   "outputs": [
    {
     "data": {
      "text/plain": [
       "<matplotlib.axes._subplots.AxesSubplot at 0x7f42dcc4dd68>"
      ]
     },
     "execution_count": 48,
     "metadata": {},
     "output_type": "execute_result"
    },
    {
     "data": {
      "image/png": "[encoded data removed]",
      "text/plain": [
       "<Figure size 432x288 with 1 Axes>"
      ]
     },
     "metadata": {},
     "output_type": "display_data"
    }
   ],
   "source": [
    "df.plot(y='mean_temp')"
   ]
  },
  {
   "cell_type": "markdown",
   "metadata": {},
   "source": [
    "En el eje horizontal se incluye el 'indice de la serie, que en este caso es un n'umero autocorrelativo.\n",
    "\n",
    "Vamos a sustituir el 'indice del dataframe por la columna date, de manera que ahora la fecha sea el 'indice, y por tanto se dibuje en el eje horizontal."
   ]
  },
  {
   "cell_type": "code",
   "execution_count": 50,
   "metadata": {},
   "outputs": [],
   "source": [
    "df = df.set_index('date')"
   ]
  },
  {
   "cell_type": "markdown",
   "metadata": {},
   "source": [
    "Comprueba que ahora al dibujar la columna mean_temp, en el eje horizontal vemos la fecha en vez del 'indice autocorrelativo"
   ]
  },
  {
   "cell_type": "code",
   "execution_count": 51,
   "metadata": {},
   "outputs": [
    {
     "data": {
      "text/plain": [
       "<matplotlib.axes._subplots.AxesSubplot at 0x7f42dc141748>"
      ]
     },
     "execution_count": 51,
     "metadata": {},
     "output_type": "execute_result"
    },
    {
     "data": {
      "image/png": "[encoded data removed]",
      "text/plain": [
       "<Figure size 432x288 with 1 Axes>"
      ]
     },
     "metadata": {},
     "output_type": "display_data"
    }
   ],
   "source": [
    "df.plot(y='mean_temp')"
   ]
  },
  {
   "cell_type": "markdown",
   "metadata": {},
   "source": [
    "Sin embargo, ahora el dataframe tiene a la vez el índice y la columna date con los mismos valores. La columna date es redundante. **Podrías eliminarla?**\n",
    "\n",
    "Ten cuidado, porque al eliminar una columna no actúas sobre el dataframe, sino que obtienes una copia del dataframe con la columna eliminada. No necesitamos el dataframe original, así que sobreescribe d con el nuevo dataframe sin la columna date."
   ]
  },
  {
   "cell_type": "code",
   "execution_count": null,
   "metadata": {},
   "outputs": [],
   "source": []
  },
  {
   "cell_type": "markdown",
   "metadata": {},
   "source": [
    "Al usar plot, obtenemos un gráfico de la serie temporal de la columna mean_temp. Vamos ahora a dibujar un histograma de esta columna, usando hist en vez de plot. **Intenta entender cuál es la diferencia entre ambos gráficos. Por qué ya no aparece la fecha en el gráfico? Qué valores se muestran en cada uno de los ejes?**\n",
    "\n",
    "**En qué situaciones es útil un histograma?**"
   ]
  },
  {
   "cell_type": "code",
   "execution_count": 56,
   "metadata": {
    "scrolled": true
   },
   "outputs": [
    {
     "data": {
      "text/plain": [
       "array([[<matplotlib.axes._subplots.AxesSubplot object at 0x7f42ddb5d978>]],\n",
       "      dtype=object)"
      ]
     },
     "execution_count": 56,
     "metadata": {},
     "output_type": "execute_result"
    },
    {
     "data": {
      "image/png": "[encoded data removed]",
      "text/plain": [
       "<Figure size 432x288 with 1 Axes>"
      ]
     },
     "metadata": {},
     "output_type": "display_data"
    }
   ],
   "source": [
    "df.hist('mean_temp')"
   ]
  },
  {
   "cell_type": "markdown",
   "metadata": {},
   "source": [
    "Los valores de la temperatura estan en grados Farenheit, unas unidades que son difíciles de interpretar para la mayoría de nosotros.\n",
    "\n",
    "Vamos a crear una columna mean_tempC que contenga los valores de mean_temp, pero transformados a grados centígrados, más fáciles de interpretar para nosotros. Para ello haremos uso de la función definida en la siguiente celda:"
   ]
  },
  {
   "cell_type": "code",
   "execution_count": 58,
   "metadata": {},
   "outputs": [],
   "source": [
    "@np.vectorize\n",
    "def farentheit_to_celsius(degree):\n",
    "    return (degree - 32) / 1.8"
   ]
  },
  {
   "cell_type": "markdown",
   "metadata": {},
   "source": [
    "Usa la función para crear la columna adicional con los valores en grados centígrados (grados Celsius), de nombre **mean_tempC**"
   ]
  },
  {
   "cell_type": "code",
   "execution_count": 59,
   "metadata": {},
   "outputs": [],
   "source": [
    "df['mean_tempC'] = farentheit_to_celsius(df['mean_temp'])"
   ]
  },
  {
   "cell_type": "markdown",
   "metadata": {},
   "source": [
    "Dibuja ahora la serie temporal con esta nueva columna, usando plot. Incluye una rejilla (grid) en el gráfico para que sea más fácil de leer e interpretar"
   ]
  },
  {
   "cell_type": "code",
   "execution_count": 62,
   "metadata": {},
   "outputs": [
    {
     "data": {
      "text/plain": [
       "<matplotlib.axes._subplots.AxesSubplot at 0x7f42dc08e630>"
      ]
     },
     "execution_count": 62,
     "metadata": {},
     "output_type": "execute_result"
    },
    {
     "data": {
      "image/png": "[encoded data removed]",
      "text/plain": [
       "<Figure size 432x288 with 1 Axes>"
      ]
     },
     "metadata": {},
     "output_type": "display_data"
    }
   ],
   "source": [
    "df.plot(y='mean_tempC', grid=True)"
   ]
  },
  {
   "cell_type": "markdown",
   "metadata": {},
   "source": [
    "Dibuja ahora también un histograma de esta nueva columna. **Cuál es el rango de temperaturas más frecuente en los datos?**"
   ]
  },
  {
   "cell_type": "code",
   "execution_count": 63,
   "metadata": {},
   "outputs": [
    {
     "data": {
      "text/plain": [
       "array([[<matplotlib.axes._subplots.AxesSubplot object at 0x7f42d2d4ca20>]],\n",
       "      dtype=object)"
      ]
     },
     "execution_count": 63,
     "metadata": {},
     "output_type": "execute_result"
    },
    {
     "data": {
      "image/png": "[encoded data removed]",
      "text/plain": [
       "<Figure size 432x288 with 1 Axes>"
      ]
     },
     "metadata": {},
     "output_type": "display_data"
    }
   ],
   "source": [
    "df.hist('mean_tempC')"
   ]
  },
  {
   "cell_type": "markdown",
   "metadata": {},
   "source": [
    "Como se puede ver en ambos gráficos, hay algunos días con temperaturas bajo 0.\n",
    "\n",
    "**En qué día ocurrió la temperatura más baja? Cuál fue la temperature media ese día?**\n",
    "\n",
    "**Cuántos días de temperaturas bajo cero hay en los datos?**\n",
    "\n",
    "*Solución: El 1 de febrero de 2013 con -11.67 C, 44 d'ias"
   ]
  },
  {
   "cell_type": "code",
   "execution_count": 65,
   "metadata": {},
   "outputs": [
    {
     "data": {
      "text/plain": [
       "Timestamp('2013-02-01 00:00:00')"
      ]
     },
     "execution_count": 65,
     "metadata": {},
     "output_type": "execute_result"
    }
   ],
   "source": [
    "df['mean_tempC'].idxmin()"
   ]
  },
  {
   "cell_type": "code",
   "execution_count": 66,
   "metadata": {},
   "outputs": [
    {
     "data": {
      "text/plain": [
       "-11.666666666666666"
      ]
     },
     "execution_count": 66,
     "metadata": {},
     "output_type": "execute_result"
    }
   ],
   "source": [
    "df['mean_tempC'].min()"
   ]
  },
  {
   "cell_type": "code",
   "execution_count": 73,
   "metadata": {},
   "outputs": [
    {
     "data": {
      "text/plain": [
       "(44, 23)"
      ]
     },
     "execution_count": 73,
     "metadata": {},
     "output_type": "execute_result"
    }
   ],
   "source": [
    "df[df['mean_tempC'] < 0].shape"
   ]
  },
  {
   "cell_type": "markdown",
   "metadata": {},
   "source": [
    "En el dataframe tenemos también las columnas min_temp y max_temp, que están también en grados Farenheit.\n",
    "\n",
    "Crea dos columnas nuevas min_tempC y max_tempC, que contengan las temperaturas en grados centígrados. Recuerda que tienes la función f2c disponible."
   ]
  },
  {
   "cell_type": "code",
   "execution_count": 77,
   "metadata": {},
   "outputs": [],
   "source": [
    "df['min_tempC'] = farentheit_to_celsius(df['min_temp'])\n",
    "df['max_tempC'] = farentheit_to_celsius(df['max_temp'])"
   ]
  },
  {
   "cell_type": "markdown",
   "metadata": {},
   "source": [
    "Dibuja las series temporales de min_tempC, mean_tempC y max_tempC en una misma gráfica con tres curvas de diferentes columnas y leyenda. Añade una rejilla (grid) al gr'afico.\n",
    "\n",
    "*Pista*: Si tienes un dataframe con la fecha en el índice y solo esas tres columnas, puedes usar el método plot del dataframe para obtener justo ese gráfico. Intenta extraer solo las tres columnas del dataframe d"
   ]
  },
  {
   "cell_type": "code",
   "execution_count": 78,
   "metadata": {},
   "outputs": [
    {
     "data": {
      "text/plain": [
       "<matplotlib.axes._subplots.AxesSubplot at 0x7f42d2661dd8>"
      ]
     },
     "execution_count": 78,
     "metadata": {},
     "output_type": "execute_result"
    },
    {
     "data": {
      "image/png": "[encoded data removed]",
      "text/plain": [
       "<Figure size 432x288 with 1 Axes>"
      ]
     },
     "metadata": {},
     "output_type": "display_data"
    }
   ],
   "source": [
    "df[['mean_tempC', 'min_tempC', 'max_tempC']].plot(grid=True)"
   ]
  },
  {
   "cell_type": "markdown",
   "metadata": {},
   "source": [
    "La columna precipitation contiene la cantidad de lluvias diarias. Pero tenemos un problema, no todos los datos son numéricos. Obtén los primeros diez valores de la columna precipitation y comprueba si existe algún valor no numérico. **Que valor no numérico has encontrado?**\n",
    "\n",
    "*Solución*: Hay valores que contienen T"
   ]
  },
  {
   "cell_type": "code",
   "execution_count": 83,
   "metadata": {},
   "outputs": [
    {
     "data": {
      "text/plain": [
       "date\n",
       "2012-03-10    0.00\n",
       "2012-03-11       T\n",
       "2012-03-12    0.03\n",
       "2012-03-13    0.00\n",
       "2012-03-14    0.00\n",
       "2012-03-15    0.04\n",
       "2012-03-16       T\n",
       "2012-03-17       T\n",
       "2012-03-18       T\n",
       "2012-03-19    0.00\n",
       "Name: precipitation, dtype: object"
      ]
     },
     "execution_count": 83,
     "metadata": {},
     "output_type": "execute_result"
    }
   ],
   "source": [
    "df['precipitation'].head(10)"
   ]
  },
  {
   "cell_type": "markdown",
   "metadata": {},
   "source": [
    "Además, el resto de datos de la columna se han interpretado como texto. **Usa la siguiente función para crear una columna de nombre precipitationN que contendrá los valores numéricos**.\n",
    "\n",
    "Lo que vamos a hacer es transformar en un número si encontramos un valor numérico, y en el caso de que encontremos T, el valor correspondiente será 0.00. El valor T significa que en ese día hubo trazas de lluvia. Es decir, llovió, pero muy poco, y no ha quedado registrado el volumen de precipitación."
   ]
  },
  {
   "cell_type": "code",
   "execution_count": 88,
   "metadata": {},
   "outputs": [],
   "source": [
    "@np.vectorize\n",
    "def t_to_zero(precip):\n",
    "    if precip == 'T':\n",
    "        return 0\n",
    "    else:\n",
    "        return float(precip)"
   ]
  },
  {
   "cell_type": "code",
   "execution_count": 90,
   "metadata": {},
   "outputs": [],
   "source": [
    "df['precipitation'] = t_to_zero(df['precipitation'])"
   ]
  },
  {
   "cell_type": "code",
   "execution_count": 91,
   "metadata": {},
   "outputs": [
    {
     "data": {
      "text/plain": [
       "date\n",
       "2012-03-10    0.00\n",
       "2012-03-11    0.00\n",
       "2012-03-12    0.03\n",
       "2012-03-13    0.00\n",
       "2012-03-14    0.00\n",
       "2012-03-15    0.04\n",
       "2012-03-16    0.00\n",
       "2012-03-17    0.00\n",
       "2012-03-18    0.00\n",
       "2012-03-19    0.00\n",
       "2012-03-20    0.00\n",
       "2012-03-21    0.00\n",
       "2012-03-22    0.14\n",
       "2012-03-23    0.86\n",
       "2012-03-24    0.06\n",
       "2012-03-25    0.00\n",
       "2012-03-26    0.00\n",
       "2012-03-27    0.00\n",
       "2012-03-28    0.00\n",
       "2012-03-29    0.00\n",
       "2012-03-30    0.01\n",
       "2012-03-31    0.00\n",
       "2012-04-01    0.51\n",
       "2012-04-02    0.01\n",
       "2012-04-03    0.00\n",
       "2012-04-04    0.01\n",
       "2012-04-05    0.69\n",
       "2012-04-06    0.00\n",
       "2012-04-07    0.00\n",
       "2012-04-08    0.00\n",
       "              ... \n",
       "2013-02-09    0.00\n",
       "2013-02-10    0.27\n",
       "2013-02-11    0.00\n",
       "2013-02-12    0.00\n",
       "2013-02-13    0.00\n",
       "2013-02-14    0.00\n",
       "2013-02-15    0.00\n",
       "2013-02-16    0.00\n",
       "2013-02-17    0.00\n",
       "2013-02-18    0.39\n",
       "2013-02-19    0.10\n",
       "2013-02-20    0.00\n",
       "2013-02-21    0.30\n",
       "2013-02-22    0.03\n",
       "2013-02-23    0.00\n",
       "2013-02-24    0.00\n",
       "2013-02-25    0.00\n",
       "2013-02-26    1.17\n",
       "2013-02-27    0.05\n",
       "2013-02-28    0.01\n",
       "2013-03-01    0.03\n",
       "2013-03-02    0.00\n",
       "2013-03-03    0.00\n",
       "2013-03-04    0.00\n",
       "2013-03-05    0.26\n",
       "2013-03-06    0.04\n",
       "2013-03-07    0.00\n",
       "2013-03-08    0.00\n",
       "2013-03-09    0.00\n",
       "2013-03-10    0.00\n",
       "Name: precipitation, Length: 366, dtype: float64"
      ]
     },
     "execution_count": 91,
     "metadata": {},
     "output_type": "execute_result"
    }
   ],
   "source": [
    "df['precipitation']"
   ]
  },
  {
   "cell_type": "markdown",
   "metadata": {},
   "source": [
    "Desde este momento, vamos a trabajar solo con las siguientes columnas:\n",
    "* min_tempC\n",
    "* mean_tempC\n",
    "* max_tempC\n",
    "* precipitationN\n",
    "\n",
    "El índice del dataframe lo vamos a conservar también, para tener las fechas para dibujar diversos gráficos.\n",
    "\n",
    "**Crea un dataframe de nombre w que contenga solo esas columnas, pero que conserve el índice de d**"
   ]
  },
  {
   "cell_type": "code",
   "execution_count": 93,
   "metadata": {},
   "outputs": [],
   "source": [
    "weather = df[['min_tempC', 'mean_tempC', 'max_tempC', 'precipitation']]"
   ]
  },
  {
   "cell_type": "markdown",
   "metadata": {},
   "source": [
    "A modo de ejemplo, vemos cómo realizar una nube de puntos relacionando precipitación con la temperatura media.\n",
    "\n",
    "Existen muchos gráficos que se pueden hacer directamente con Pandas y sus Series y Dataframes. Para más información, consulta la documentación en http://pandas.pydata.org/pandas-docs/stable/visualization.html\n",
    "\n",
    "**Llovió algún día en los que la temperatura media era menor que 0?**\n",
    "\n",
    "*Solución*: Sí, algunos puntos con temperaturas negativas tienen precipitaciones positivas."
   ]
  },
  {
   "cell_type": "code",
   "execution_count": 94,
   "metadata": {},
   "outputs": [
    {
     "data": {
      "text/plain": [
       "<matplotlib.axes._subplots.AxesSubplot at 0x7f42d2cb3278>"
      ]
     },
     "execution_count": 94,
     "metadata": {},
     "output_type": "execute_result"
    },
    {
     "data": {
      "image/png": "[encoded data removed]",
      "text/plain": [
       "<Figure size 432x288 with 1 Axes>"
      ]
     },
     "metadata": {},
     "output_type": "display_data"
    }
   ],
   "source": [
    "weather.plot(x='mean_tempC', y='precipitation', kind='scatter')"
   ]
  }
 ],
 "metadata": {
  "kernelspec": {
   "display_name": "Python 3",
   "language": "python",
   "name": "python3"
  },
  "language_info": {
   "codemirror_mode": {
    "name": "ipython",
    "version": 3
   },
   "file_extension": ".py",
   "mimetype": "text/x-python",
   "name": "python",
   "nbconvert_exporter": "python",
   "pygments_lexer": "ipython3",
   "version": "3.6.4"
  }
 },
 "nbformat": 4,
 "nbformat_minor": 1
}
